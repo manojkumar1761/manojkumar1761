{
 "cells": [
  {
   "cell_type": "code",
   "execution_count": 2,
   "id": "87a9e591",
   "metadata": {},
   "outputs": [],
   "source": [
    "# import libraries\n",
    "import requests\n",
    "from bs4 import BeautifulSoup\n",
    "import re\n",
    "import pandas as pd\n",
    "import numpy as np"
   ]
  },
  {
   "cell_type": "markdown",
   "id": "3554ff2c",
   "metadata": {},
   "source": [
    "### second page"
   ]
  },
  {
   "cell_type": "code",
   "execution_count": 3,
   "id": "041b9430",
   "metadata": {},
   "outputs": [],
   "source": [
    "url = \"https://www.flipkart.com/search?q=mobiles&as=on&as-show=on&otracker=AS_Query_HistoryAutoSuggest_1_7_na_na_na&otracker1=AS_Query_HistoryAutoSuggest_1_7_na_na_na&as-pos=1&as-type=HISTORY&suggestionId=mobiles&requestId=56328270-8958-43c9-98b7-6b7112fc01e7&as-searchtext=mobiles&sort=popularity&page=2\"\n",
    "page = requests.get(url)\n",
    "soup = BeautifulSoup(page.text)\n",
    "# price\n",
    "p = soup.find_all(\"div\",class_=\"_30jeq3 _1_WHN1\")\n",
    "prices = []\n",
    "for i in p:\n",
    "    prices.append(i.text)\n",
    "    \n",
    "data = soup.find_all(\"div\",class_=\"_4rR01T\")\n",
    "\n",
    "brands = []\n",
    "for i in data:\n",
    "    brands.append(i.text.split()[0])\n",
    "    \n",
    "models = []\n",
    "for i in data:\n",
    "    models.append(i.text.split(\"(\")[0].strip())\n",
    "    \n",
    "colors = []\n",
    "for i in data:\n",
    "    colors.append(i.text.split(\"(\")[1].split(\",\")[0])\n",
    "    \n",
    "features = soup.find_all(\"li\",class_=\"rgWa7D\")\n",
    "\n",
    "RAM = []\n",
    "for i in features:\n",
    "    a = i.text\n",
    "    b = re.findall(r\"(\\d+)\\sGB\\sRAM\",a)\n",
    "    if len(b)>0:\n",
    "        RAM.append(b[0])\n",
    "        \n",
    "ROM = []\n",
    "for i in features:\n",
    "    a = i.text\n",
    "    b = re.findall(r\"(\\d+)\\s\\w+\\sROM\",a)\n",
    "    if len(b)>0:\n",
    "        ROM.append(b[0])\n",
    "        \n",
    "ss = []\n",
    "for i in features:\n",
    "    a = i.text\n",
    "    b = re.findall(r\"(\\d+\\.\\d+)\\sinch\",a)\n",
    "    if len(b)>0:\n",
    "        ss.append(b[0])\n",
    "        \n",
    "battery = []\n",
    "for i in features:\n",
    "    a = i.text\n",
    "    b = re.findall(r\"(\\d+)\\smAh\",a)\n",
    "    if len(b)>0:\n",
    "        battery.append(b[0])"
   ]
  },
  {
   "cell_type": "code",
   "execution_count": 4,
   "id": "8bb3563a",
   "metadata": {},
   "outputs": [],
   "source": [
    "d = {\"Price\":prices,\n",
    "    \"Brand\":brands,\n",
    "    \"Model\":models,\n",
    "    \"Color\":colors,\n",
    "    \"RAM\":RAM,\n",
    "    \"ROM\":ROM,\n",
    "    \"SS\":ss,\n",
    "    \"Battery\":battery}\n",
    "df2 = pd.DataFrame(d)"
   ]
  },
  {
   "cell_type": "code",
   "execution_count": 5,
   "id": "fc499450",
   "metadata": {},
   "outputs": [
    {
     "data": {
      "text/html": [
       "<div>\n",
       "<style scoped>\n",
       "    .dataframe tbody tr th:only-of-type {\n",
       "        vertical-align: middle;\n",
       "    }\n",
       "\n",
       "    .dataframe tbody tr th {\n",
       "        vertical-align: top;\n",
       "    }\n",
       "\n",
       "    .dataframe thead th {\n",
       "        text-align: right;\n",
       "    }\n",
       "</style>\n",
       "<table border=\"1\" class=\"dataframe\">\n",
       "  <thead>\n",
       "    <tr style=\"text-align: right;\">\n",
       "      <th></th>\n",
       "      <th>Price</th>\n",
       "      <th>Brand</th>\n",
       "      <th>Model</th>\n",
       "      <th>Color</th>\n",
       "      <th>RAM</th>\n",
       "      <th>ROM</th>\n",
       "      <th>SS</th>\n",
       "      <th>Battery</th>\n",
       "    </tr>\n",
       "  </thead>\n",
       "  <tbody>\n",
       "    <tr>\n",
       "      <th>0</th>\n",
       "      <td>₹12,999</td>\n",
       "      <td>vivo</td>\n",
       "      <td>vivo T2x 5G</td>\n",
       "      <td>Glimmer Black</td>\n",
       "      <td>4</td>\n",
       "      <td>128</td>\n",
       "      <td>6.58</td>\n",
       "      <td>5000</td>\n",
       "    </tr>\n",
       "    <tr>\n",
       "      <th>1</th>\n",
       "      <td>₹12,999</td>\n",
       "      <td>vivo</td>\n",
       "      <td>vivo T2x 5G</td>\n",
       "      <td>Aurora Gold</td>\n",
       "      <td>4</td>\n",
       "      <td>128</td>\n",
       "      <td>6.58</td>\n",
       "      <td>5000</td>\n",
       "    </tr>\n",
       "    <tr>\n",
       "      <th>2</th>\n",
       "      <td>₹6,199</td>\n",
       "      <td>Infinix</td>\n",
       "      <td>Infinix Smart 7 HD</td>\n",
       "      <td>Green Apple</td>\n",
       "      <td>2</td>\n",
       "      <td>64</td>\n",
       "      <td>6.6</td>\n",
       "      <td>5000</td>\n",
       "    </tr>\n",
       "    <tr>\n",
       "      <th>3</th>\n",
       "      <td>₹6,299</td>\n",
       "      <td>REDMI</td>\n",
       "      <td>REDMI A1+</td>\n",
       "      <td>Light Blue</td>\n",
       "      <td>2</td>\n",
       "      <td>32</td>\n",
       "      <td>6.52</td>\n",
       "      <td>5000</td>\n",
       "    </tr>\n",
       "    <tr>\n",
       "      <th>4</th>\n",
       "      <td>₹9,299</td>\n",
       "      <td>Infinix</td>\n",
       "      <td>Infinix HOT 30i</td>\n",
       "      <td>Mirror Black</td>\n",
       "      <td>8</td>\n",
       "      <td>128</td>\n",
       "      <td>6.6</td>\n",
       "      <td>5000</td>\n",
       "    </tr>\n",
       "    <tr>\n",
       "      <th>5</th>\n",
       "      <td>₹7,299</td>\n",
       "      <td>MOTOROLA</td>\n",
       "      <td>MOTOROLA e13</td>\n",
       "      <td>Creamy White</td>\n",
       "      <td>4</td>\n",
       "      <td>64</td>\n",
       "      <td>6.5</td>\n",
       "      <td>5000</td>\n",
       "    </tr>\n",
       "    <tr>\n",
       "      <th>6</th>\n",
       "      <td>₹7,749</td>\n",
       "      <td>POCO</td>\n",
       "      <td>POCO C55</td>\n",
       "      <td>Cool Blue</td>\n",
       "      <td>4</td>\n",
       "      <td>64</td>\n",
       "      <td>6.71</td>\n",
       "      <td>5000</td>\n",
       "    </tr>\n",
       "    <tr>\n",
       "      <th>7</th>\n",
       "      <td>₹11,999</td>\n",
       "      <td>realme</td>\n",
       "      <td>realme C55</td>\n",
       "      <td>Rainy Night</td>\n",
       "      <td>6</td>\n",
       "      <td>64</td>\n",
       "      <td>6.72</td>\n",
       "      <td>5000</td>\n",
       "    </tr>\n",
       "    <tr>\n",
       "      <th>8</th>\n",
       "      <td>₹10,999</td>\n",
       "      <td>realme</td>\n",
       "      <td>realme C55</td>\n",
       "      <td>Sunshower</td>\n",
       "      <td>4</td>\n",
       "      <td>64</td>\n",
       "      <td>6.72</td>\n",
       "      <td>5000</td>\n",
       "    </tr>\n",
       "    <tr>\n",
       "      <th>9</th>\n",
       "      <td>₹11,999</td>\n",
       "      <td>MOTOROLA</td>\n",
       "      <td>MOTOROLA G32</td>\n",
       "      <td>Satin Silver</td>\n",
       "      <td>8</td>\n",
       "      <td>128</td>\n",
       "      <td>6.55</td>\n",
       "      <td>5000</td>\n",
       "    </tr>\n",
       "    <tr>\n",
       "      <th>10</th>\n",
       "      <td>₹13,999</td>\n",
       "      <td>realme</td>\n",
       "      <td>realme C55</td>\n",
       "      <td>Rainforest</td>\n",
       "      <td>8</td>\n",
       "      <td>128</td>\n",
       "      <td>6.72</td>\n",
       "      <td>5000</td>\n",
       "    </tr>\n",
       "    <tr>\n",
       "      <th>11</th>\n",
       "      <td>₹13,999</td>\n",
       "      <td>realme</td>\n",
       "      <td>realme C55</td>\n",
       "      <td>Sunshower</td>\n",
       "      <td>8</td>\n",
       "      <td>128</td>\n",
       "      <td>6.72</td>\n",
       "      <td>5000</td>\n",
       "    </tr>\n",
       "    <tr>\n",
       "      <th>12</th>\n",
       "      <td>₹11,999</td>\n",
       "      <td>realme</td>\n",
       "      <td>realme C55</td>\n",
       "      <td>Rainforest</td>\n",
       "      <td>6</td>\n",
       "      <td>64</td>\n",
       "      <td>6.72</td>\n",
       "      <td>5000</td>\n",
       "    </tr>\n",
       "    <tr>\n",
       "      <th>13</th>\n",
       "      <td>₹10,999</td>\n",
       "      <td>realme</td>\n",
       "      <td>realme C55</td>\n",
       "      <td>Rainforest</td>\n",
       "      <td>4</td>\n",
       "      <td>64</td>\n",
       "      <td>6.72</td>\n",
       "      <td>5000</td>\n",
       "    </tr>\n",
       "    <tr>\n",
       "      <th>14</th>\n",
       "      <td>₹10,999</td>\n",
       "      <td>realme</td>\n",
       "      <td>realme C55</td>\n",
       "      <td>Rainy Night</td>\n",
       "      <td>4</td>\n",
       "      <td>64</td>\n",
       "      <td>6.72</td>\n",
       "      <td>5000</td>\n",
       "    </tr>\n",
       "    <tr>\n",
       "      <th>15</th>\n",
       "      <td>₹13,999</td>\n",
       "      <td>realme</td>\n",
       "      <td>realme C55</td>\n",
       "      <td>Rainy Night</td>\n",
       "      <td>8</td>\n",
       "      <td>128</td>\n",
       "      <td>6.72</td>\n",
       "      <td>5000</td>\n",
       "    </tr>\n",
       "    <tr>\n",
       "      <th>16</th>\n",
       "      <td>₹8,999</td>\n",
       "      <td>POCO</td>\n",
       "      <td>POCO M5</td>\n",
       "      <td>Icy Blue</td>\n",
       "      <td>4</td>\n",
       "      <td>64</td>\n",
       "      <td>6.58</td>\n",
       "      <td>5000</td>\n",
       "    </tr>\n",
       "    <tr>\n",
       "      <th>17</th>\n",
       "      <td>₹9,999</td>\n",
       "      <td>MOTOROLA</td>\n",
       "      <td>MOTOROLA g13</td>\n",
       "      <td>Lavender Blue</td>\n",
       "      <td>4</td>\n",
       "      <td>128</td>\n",
       "      <td>6.5</td>\n",
       "      <td>5000</td>\n",
       "    </tr>\n",
       "    <tr>\n",
       "      <th>18</th>\n",
       "      <td>₹11,999</td>\n",
       "      <td>realme</td>\n",
       "      <td>realme C55</td>\n",
       "      <td>Sunshower</td>\n",
       "      <td>6</td>\n",
       "      <td>64</td>\n",
       "      <td>6.72</td>\n",
       "      <td>5000</td>\n",
       "    </tr>\n",
       "    <tr>\n",
       "      <th>19</th>\n",
       "      <td>₹10,999</td>\n",
       "      <td>REDMI</td>\n",
       "      <td>REDMI 10</td>\n",
       "      <td>Caribbean Green</td>\n",
       "      <td>6</td>\n",
       "      <td>128</td>\n",
       "      <td>6.7</td>\n",
       "      <td>6000</td>\n",
       "    </tr>\n",
       "    <tr>\n",
       "      <th>20</th>\n",
       "      <td>₹7,999</td>\n",
       "      <td>MOTOROLA</td>\n",
       "      <td>MOTOROLA e32</td>\n",
       "      <td>Eco Black</td>\n",
       "      <td>4</td>\n",
       "      <td>64</td>\n",
       "      <td>6.5</td>\n",
       "      <td>5000</td>\n",
       "    </tr>\n",
       "    <tr>\n",
       "      <th>21</th>\n",
       "      <td>₹9,249</td>\n",
       "      <td>POCO</td>\n",
       "      <td>POCO C55</td>\n",
       "      <td>Cool Blue</td>\n",
       "      <td>6</td>\n",
       "      <td>128</td>\n",
       "      <td>6.71</td>\n",
       "      <td>5000</td>\n",
       "    </tr>\n",
       "    <tr>\n",
       "      <th>22</th>\n",
       "      <td>₹11,999</td>\n",
       "      <td>POCO</td>\n",
       "      <td>POCO M4 5G</td>\n",
       "      <td>Cool Blue</td>\n",
       "      <td>4</td>\n",
       "      <td>64</td>\n",
       "      <td>6.58</td>\n",
       "      <td>5000</td>\n",
       "    </tr>\n",
       "    <tr>\n",
       "      <th>23</th>\n",
       "      <td>₹9,499</td>\n",
       "      <td>REDMI</td>\n",
       "      <td>REDMI 10</td>\n",
       "      <td>Caribbean Green</td>\n",
       "      <td>4</td>\n",
       "      <td>64</td>\n",
       "      <td>6.7</td>\n",
       "      <td>6000</td>\n",
       "    </tr>\n",
       "  </tbody>\n",
       "</table>\n",
       "</div>"
      ],
      "text/plain": [
       "      Price     Brand               Model            Color RAM  ROM    SS  \\\n",
       "0   ₹12,999      vivo         vivo T2x 5G    Glimmer Black   4  128  6.58   \n",
       "1   ₹12,999      vivo         vivo T2x 5G      Aurora Gold   4  128  6.58   \n",
       "2    ₹6,199   Infinix  Infinix Smart 7 HD      Green Apple   2   64   6.6   \n",
       "3    ₹6,299     REDMI           REDMI A1+       Light Blue   2   32  6.52   \n",
       "4    ₹9,299   Infinix     Infinix HOT 30i     Mirror Black   8  128   6.6   \n",
       "5    ₹7,299  MOTOROLA        MOTOROLA e13     Creamy White   4   64   6.5   \n",
       "6    ₹7,749      POCO            POCO C55        Cool Blue   4   64  6.71   \n",
       "7   ₹11,999    realme          realme C55      Rainy Night   6   64  6.72   \n",
       "8   ₹10,999    realme          realme C55        Sunshower   4   64  6.72   \n",
       "9   ₹11,999  MOTOROLA        MOTOROLA G32     Satin Silver   8  128  6.55   \n",
       "10  ₹13,999    realme          realme C55       Rainforest   8  128  6.72   \n",
       "11  ₹13,999    realme          realme C55        Sunshower   8  128  6.72   \n",
       "12  ₹11,999    realme          realme C55       Rainforest   6   64  6.72   \n",
       "13  ₹10,999    realme          realme C55       Rainforest   4   64  6.72   \n",
       "14  ₹10,999    realme          realme C55      Rainy Night   4   64  6.72   \n",
       "15  ₹13,999    realme          realme C55      Rainy Night   8  128  6.72   \n",
       "16   ₹8,999      POCO             POCO M5         Icy Blue   4   64  6.58   \n",
       "17   ₹9,999  MOTOROLA        MOTOROLA g13    Lavender Blue   4  128   6.5   \n",
       "18  ₹11,999    realme          realme C55        Sunshower   6   64  6.72   \n",
       "19  ₹10,999     REDMI            REDMI 10  Caribbean Green   6  128   6.7   \n",
       "20   ₹7,999  MOTOROLA        MOTOROLA e32        Eco Black   4   64   6.5   \n",
       "21   ₹9,249      POCO            POCO C55        Cool Blue   6  128  6.71   \n",
       "22  ₹11,999      POCO          POCO M4 5G        Cool Blue   4   64  6.58   \n",
       "23   ₹9,499     REDMI            REDMI 10  Caribbean Green   4   64   6.7   \n",
       "\n",
       "   Battery  \n",
       "0     5000  \n",
       "1     5000  \n",
       "2     5000  \n",
       "3     5000  \n",
       "4     5000  \n",
       "5     5000  \n",
       "6     5000  \n",
       "7     5000  \n",
       "8     5000  \n",
       "9     5000  \n",
       "10    5000  \n",
       "11    5000  \n",
       "12    5000  \n",
       "13    5000  \n",
       "14    5000  \n",
       "15    5000  \n",
       "16    5000  \n",
       "17    5000  \n",
       "18    5000  \n",
       "19    6000  \n",
       "20    5000  \n",
       "21    5000  \n",
       "22    5000  \n",
       "23    6000  "
      ]
     },
     "execution_count": 5,
     "metadata": {},
     "output_type": "execute_result"
    }
   ],
   "source": [
    "df2"
   ]
  },
  {
   "cell_type": "markdown",
   "id": "328c8e8d",
   "metadata": {},
   "source": [
    "### third page"
   ]
  },
  {
   "cell_type": "code",
   "execution_count": null,
   "id": "7345dd02",
   "metadata": {},
   "outputs": [],
   "source": [
    "url = \"https://www.flipkart.com/search?q=mobiles&as=on&as-show=on&otracker=AS_Query_HistoryAutoSuggest_1_7_na_na_na&otracker1=AS_Query_HistoryAutoSuggest_1_7_na_na_na&as-pos=1&as-type=HISTORY&suggestionId=mobiles&requestId=56328270-8958-43c9-98b7-6b7112fc01e7&as-searchtext=mobiles&sort=popularity&page=2\"\n",
    "page = requests.get(url)\n",
    "soup = BeautifulSoup(page.text)\n",
    "# price\n",
    "p = soup.find_all(\"div\",class_=\"_30jeq3 _1_WHN1\")\n",
    "prices = []\n",
    "for i in p:\n",
    "    prices.append(i.text)\n",
    "    \n",
    "data = soup.find_all(\"div\",class_=\"_4rR01T\")\n",
    "\n",
    "brands = []\n",
    "for i in data:\n",
    "    brands.append(i.text.split()[0])\n",
    "    \n",
    "models = []\n",
    "for i in data:\n",
    "    models.append(i.text.split(\"(\")[0].strip())\n",
    "    \n",
    "colors = []\n",
    "for i in data:\n",
    "    colors.append(i.text.split(\"(\")[1].split(\",\")[0])\n",
    "    \n",
    "features = soup.find_all(\"li\",class_=\"rgWa7D\")\n",
    "\n",
    "RAM = []\n",
    "for i in features:\n",
    "    a = i.text\n",
    "    b = re.findall(r\"(\\d+)\\sGB\\sRAM\",a)\n",
    "    if len(b)>0:\n",
    "        RAM.append(b[0])\n",
    "        \n",
    "ROM = []\n",
    "for i in features:\n",
    "    a = i.text\n",
    "    b = re.findall(r\"(\\d+)\\s\\w+\\sROM\",a)\n",
    "    if len(b)>0:\n",
    "        ROM.append(b[0])\n",
    "        \n",
    "ss = []\n",
    "for i in features:\n",
    "    a = i.text\n",
    "    b = re.findall(r\"(\\d+\\.\\d+)\\sinch\",a)\n",
    "    if len(b)>0:\n",
    "        ss.append(b[0])\n",
    "        \n",
    "battery = []\n",
    "for i in features:\n",
    "    a = i.text\n",
    "    b = re.findall(r\"(\\d+)\\smAh\",a)\n",
    "    if len(b)>0:\n",
    "        battery.append(b[0])"
   ]
  },
  {
   "cell_type": "code",
   "execution_count": null,
   "id": "a84156d4",
   "metadata": {},
   "outputs": [],
   "source": []
  },
  {
   "cell_type": "code",
   "execution_count": null,
   "id": "da83be5b",
   "metadata": {},
   "outputs": [],
   "source": [
    "[\"\"\"https://www.flipkart.com/search?q=mobiles&as=on&as-show=on&otracker=AS_Query_HistoryAutoSuggest_1_7_na_na_na&otracker1=AS_Query_HistoryAutoSuggest_1_7_na_na_na&as-pos=1&as-type=HISTORY&suggestionId=mobiles&requestId=56328270-\n",
    "8958-43c9-98b7-6b7112fc01e7&as-searchtext=mobiles&sort=popularity&page=3\"\"\"\n",
    "\"\"\"https://www.flipkart.com/search?q=mobiles&as=on&as-show=on&otracker=AS_Query_HistoryAutoSuggest_1_7_na_na_na&otracker1=AS_Query_HistoryAutoSuggest_1_7_na_na_na&as-pos=1&as-type=HISTORY&suggestionId=mobiles&requestId=56328270-\n",
    "8958-43c9-98b7-6b7112fc01e7&as-searchtext=mobiles&sort=popularity&page=4\"\"\"\n",
    "\"\"\"https://www.flipkart.com/search?q=mobiles&as=on&as-show=on&otracker=AS_Query_HistoryAutoSuggest_1_7_na_na_na&otracker1=AS_Query_HistoryAutoSuggest_1_7_na_na_na&as-pos=1&as-type=HISTORY&suggestionId=mobiles&requestId=56328270-\n",
    "8958-43c9-98b7-6b7112fc01e7&as-searchtext=mobiles&sort=popularity&page=50\"\"\"]"
   ]
  },
  {
   "cell_type": "code",
   "execution_count": 8,
   "id": "ab4c7dda",
   "metadata": {},
   "outputs": [
    {
     "data": {
      "text/plain": [
       "'https://www.flipkart.com/search?q=mobiles&as=on&as-show=on&otracker=AS_Query_HistoryAutoSuggest_1_7_na_na_na&otracker1=AS_Query_HistoryAutoSuggest_1_7_na_na_na&as-pos=1&as-type=HISTORY&suggestionId=mobiles&requestId=56328270-8958-43c9-98b7-6b7112fc01e7&as-searchtext=mobiles&sort=popularity&page=10'"
      ]
     },
     "execution_count": 8,
     "metadata": {},
     "output_type": "execute_result"
    }
   ],
   "source": [
    "\"https://www.flipkart.com/search?q=mobiles&as=on&as-show=on&otracker=AS_Query_HistoryAutoSuggest_1_7_na_na_na&otracker1=AS_Query_HistoryAutoSuggest_1_7_na_na_na&as-pos=1&as-type=HISTORY&suggestionId=mobiles&requestId=56328270-8958-43c9-98b7-6b7112fc01e7&as-searchtext=mobiles&sort=popularity&page=\"+str(10)"
   ]
  },
  {
   "cell_type": "code",
   "execution_count": 19,
   "id": "b3ac481f",
   "metadata": {},
   "outputs": [
    {
     "name": "stdout",
     "output_type": "stream",
     "text": [
      "https://www.flipkart.com/search?q=mobiles&as=on&as-show=on&otracker=AS_Query_HistoryAutoSuggest_1_7_na_na_na&otracker1=AS_Query_HistoryAutoSuggest_1_7_na_na_na&as-pos=1&as-type=HISTORY&suggestionId=mobiles&requestId=56328270-8958-43c9-98b7-6b7112fc01e7&as-searchtext=mobiles&sort=popularity&page=3\n",
      "https://www.flipkart.com/search?q=mobiles&as=on&as-show=on&otracker=AS_Query_HistoryAutoSuggest_1_7_na_na_na&otracker1=AS_Query_HistoryAutoSuggest_1_7_na_na_na&as-pos=1&as-type=HISTORY&suggestionId=mobiles&requestId=56328270-8958-43c9-98b7-6b7112fc01e7&as-searchtext=mobiles&sort=popularity&page=4\n",
      "https://www.flipkart.com/search?q=mobiles&as=on&as-show=on&otracker=AS_Query_HistoryAutoSuggest_1_7_na_na_na&otracker1=AS_Query_HistoryAutoSuggest_1_7_na_na_na&as-pos=1&as-type=HISTORY&suggestionId=mobiles&requestId=56328270-8958-43c9-98b7-6b7112fc01e7&as-searchtext=mobiles&sort=popularity&page=5\n"
     ]
    }
   ],
   "source": [
    "prices = []\n",
    "brands = []\n",
    "models = []\n",
    "colors = []\n",
    "RAM = []\n",
    "ROM = []\n",
    "ss = []\n",
    "battery = []\n",
    "for i in range(3,6):\n",
    "    urls = \"https://www.flipkart.com/search?q=mobiles&as=on&as-show=on&otracker=AS_Query_HistoryAutoSuggest_1_7_na_na_na&otracker1=AS_Query_HistoryAutoSuggest_1_7_na_na_na&as-pos=1&as-type=HISTORY&suggestionId=mobiles&requestId=56328270-8958-43c9-98b7-6b7112fc01e7&as-searchtext=mobiles&sort=popularity&page=\"+str(i)\n",
    "    print(urls)\n",
    "    page = requests.get(url)\n",
    "    soup = BeautifulSoup(page.text)\n",
    "    # price\n",
    "    p = soup.find_all(\"div\",class_=\"_30jeq3 _1_WHN1\")\n",
    "    \n",
    "    for i in p:\n",
    "        prices.append(i.text)\n",
    "\n",
    "    data = soup.find_all(\"div\",class_=\"_4rR01T\")\n",
    "\n",
    "    \n",
    "    for i in data:\n",
    "        brands.append(i.text.split()[0])\n",
    "\n",
    "    \n",
    "    for i in data:\n",
    "        models.append(i.text.split(\"(\")[0].strip())\n",
    "\n",
    "    \n",
    "    for i in data:\n",
    "        colors.append(i.text.split(\"(\")[1].split(\",\")[0])\n",
    "\n",
    "    features = soup.find_all(\"li\",class_=\"rgWa7D\")\n",
    "\n",
    "    \n",
    "    for i in features:\n",
    "        a = i.text\n",
    "        b = re.findall(r\"(\\d+)\\sGB\\sRAM\",a)\n",
    "        if len(b)>0:\n",
    "            RAM.append(b[0])\n",
    "\n",
    "   \n",
    "    for i in features:\n",
    "        a = i.text\n",
    "        b = re.findall(r\"(\\d+)\\s\\w+\\sROM\",a)\n",
    "        if len(b)>0:\n",
    "            ROM.append(b[0])\n",
    "\n",
    "    \n",
    "    for i in features:\n",
    "        a = i.text\n",
    "        b = re.findall(r\"(\\d+\\.\\d+)\\sinch\",a)\n",
    "        if len(b)>0:\n",
    "            ss.append(b[0])\n",
    "\n",
    "    \n",
    "    for i in features:\n",
    "        a = i.text\n",
    "        b = re.findall(r\"(\\d+)\\smAh\",a)\n",
    "        if len(b)>0:\n",
    "            battery.append(b[0])"
   ]
  },
  {
   "cell_type": "code",
   "execution_count": 14,
   "id": "5687296c",
   "metadata": {},
   "outputs": [
    {
     "data": {
      "text/plain": [
       "72"
      ]
     },
     "execution_count": 14,
     "metadata": {},
     "output_type": "execute_result"
    }
   ],
   "source": [
    "24*3"
   ]
  },
  {
   "cell_type": "code",
   "execution_count": 20,
   "id": "03cbdacf",
   "metadata": {},
   "outputs": [
    {
     "data": {
      "text/plain": [
       "72"
      ]
     },
     "execution_count": 20,
     "metadata": {},
     "output_type": "execute_result"
    }
   ],
   "source": [
    "len(brands)"
   ]
  },
  {
   "cell_type": "code",
   "execution_count": 21,
   "id": "f5353973",
   "metadata": {},
   "outputs": [],
   "source": [
    "d = {\"Price\":prices,\n",
    "    \"Brand\":brands,\n",
    "    \"Model\":models,\n",
    "    \"Color\":colors,\n",
    "    \"RAM\":RAM,\n",
    "    \"ROM\":ROM,\n",
    "    \"SS\":ss,\n",
    "    \"Battery\":battery}\n",
    "df3 = pd.DataFrame(d)"
   ]
  },
  {
   "cell_type": "code",
   "execution_count": 22,
   "id": "33af8113",
   "metadata": {},
   "outputs": [
    {
     "data": {
      "text/html": [
       "<div>\n",
       "<style scoped>\n",
       "    .dataframe tbody tr th:only-of-type {\n",
       "        vertical-align: middle;\n",
       "    }\n",
       "\n",
       "    .dataframe tbody tr th {\n",
       "        vertical-align: top;\n",
       "    }\n",
       "\n",
       "    .dataframe thead th {\n",
       "        text-align: right;\n",
       "    }\n",
       "</style>\n",
       "<table border=\"1\" class=\"dataframe\">\n",
       "  <thead>\n",
       "    <tr style=\"text-align: right;\">\n",
       "      <th></th>\n",
       "      <th>Price</th>\n",
       "      <th>Brand</th>\n",
       "      <th>Model</th>\n",
       "      <th>Color</th>\n",
       "      <th>RAM</th>\n",
       "      <th>ROM</th>\n",
       "      <th>SS</th>\n",
       "      <th>Battery</th>\n",
       "    </tr>\n",
       "  </thead>\n",
       "  <tbody>\n",
       "    <tr>\n",
       "      <th>0</th>\n",
       "      <td>₹12,999</td>\n",
       "      <td>vivo</td>\n",
       "      <td>vivo T2x 5G</td>\n",
       "      <td>Glimmer Black</td>\n",
       "      <td>4</td>\n",
       "      <td>128</td>\n",
       "      <td>6.58</td>\n",
       "      <td>5000</td>\n",
       "    </tr>\n",
       "    <tr>\n",
       "      <th>1</th>\n",
       "      <td>₹12,999</td>\n",
       "      <td>vivo</td>\n",
       "      <td>vivo T2x 5G</td>\n",
       "      <td>Aurora Gold</td>\n",
       "      <td>4</td>\n",
       "      <td>128</td>\n",
       "      <td>6.58</td>\n",
       "      <td>5000</td>\n",
       "    </tr>\n",
       "    <tr>\n",
       "      <th>2</th>\n",
       "      <td>₹6,199</td>\n",
       "      <td>Infinix</td>\n",
       "      <td>Infinix Smart 7 HD</td>\n",
       "      <td>Green Apple</td>\n",
       "      <td>2</td>\n",
       "      <td>64</td>\n",
       "      <td>6.6</td>\n",
       "      <td>5000</td>\n",
       "    </tr>\n",
       "    <tr>\n",
       "      <th>3</th>\n",
       "      <td>₹6,299</td>\n",
       "      <td>REDMI</td>\n",
       "      <td>REDMI A1+</td>\n",
       "      <td>Light Blue</td>\n",
       "      <td>2</td>\n",
       "      <td>32</td>\n",
       "      <td>6.52</td>\n",
       "      <td>5000</td>\n",
       "    </tr>\n",
       "    <tr>\n",
       "      <th>4</th>\n",
       "      <td>₹9,299</td>\n",
       "      <td>Infinix</td>\n",
       "      <td>Infinix HOT 30i</td>\n",
       "      <td>Mirror Black</td>\n",
       "      <td>8</td>\n",
       "      <td>128</td>\n",
       "      <td>6.6</td>\n",
       "      <td>5000</td>\n",
       "    </tr>\n",
       "    <tr>\n",
       "      <th>...</th>\n",
       "      <td>...</td>\n",
       "      <td>...</td>\n",
       "      <td>...</td>\n",
       "      <td>...</td>\n",
       "      <td>...</td>\n",
       "      <td>...</td>\n",
       "      <td>...</td>\n",
       "      <td>...</td>\n",
       "    </tr>\n",
       "    <tr>\n",
       "      <th>67</th>\n",
       "      <td>₹13,999</td>\n",
       "      <td>realme</td>\n",
       "      <td>realme C55</td>\n",
       "      <td>Sunshower</td>\n",
       "      <td>8</td>\n",
       "      <td>128</td>\n",
       "      <td>6.72</td>\n",
       "      <td>5000</td>\n",
       "    </tr>\n",
       "    <tr>\n",
       "      <th>68</th>\n",
       "      <td>₹13,999</td>\n",
       "      <td>realme</td>\n",
       "      <td>realme C55</td>\n",
       "      <td>Rainforest</td>\n",
       "      <td>8</td>\n",
       "      <td>128</td>\n",
       "      <td>6.72</td>\n",
       "      <td>5000</td>\n",
       "    </tr>\n",
       "    <tr>\n",
       "      <th>69</th>\n",
       "      <td>₹11,999</td>\n",
       "      <td>realme</td>\n",
       "      <td>realme C55</td>\n",
       "      <td>Rainy Night</td>\n",
       "      <td>6</td>\n",
       "      <td>64</td>\n",
       "      <td>6.72</td>\n",
       "      <td>5000</td>\n",
       "    </tr>\n",
       "    <tr>\n",
       "      <th>70</th>\n",
       "      <td>₹11,999</td>\n",
       "      <td>realme</td>\n",
       "      <td>realme C55</td>\n",
       "      <td>Rainforest</td>\n",
       "      <td>6</td>\n",
       "      <td>64</td>\n",
       "      <td>6.72</td>\n",
       "      <td>5000</td>\n",
       "    </tr>\n",
       "    <tr>\n",
       "      <th>71</th>\n",
       "      <td>₹7,749</td>\n",
       "      <td>POCO</td>\n",
       "      <td>POCO C55</td>\n",
       "      <td>Forest Green</td>\n",
       "      <td>4</td>\n",
       "      <td>64</td>\n",
       "      <td>6.71</td>\n",
       "      <td>5000</td>\n",
       "    </tr>\n",
       "  </tbody>\n",
       "</table>\n",
       "<p>72 rows × 8 columns</p>\n",
       "</div>"
      ],
      "text/plain": [
       "      Price    Brand               Model          Color RAM  ROM    SS Battery\n",
       "0   ₹12,999     vivo         vivo T2x 5G  Glimmer Black   4  128  6.58    5000\n",
       "1   ₹12,999     vivo         vivo T2x 5G    Aurora Gold   4  128  6.58    5000\n",
       "2    ₹6,199  Infinix  Infinix Smart 7 HD    Green Apple   2   64   6.6    5000\n",
       "3    ₹6,299    REDMI           REDMI A1+     Light Blue   2   32  6.52    5000\n",
       "4    ₹9,299  Infinix     Infinix HOT 30i   Mirror Black   8  128   6.6    5000\n",
       "..      ...      ...                 ...            ...  ..  ...   ...     ...\n",
       "67  ₹13,999   realme          realme C55      Sunshower   8  128  6.72    5000\n",
       "68  ₹13,999   realme          realme C55     Rainforest   8  128  6.72    5000\n",
       "69  ₹11,999   realme          realme C55    Rainy Night   6   64  6.72    5000\n",
       "70  ₹11,999   realme          realme C55     Rainforest   6   64  6.72    5000\n",
       "71   ₹7,749     POCO            POCO C55   Forest Green   4   64  6.71    5000\n",
       "\n",
       "[72 rows x 8 columns]"
      ]
     },
     "execution_count": 22,
     "metadata": {},
     "output_type": "execute_result"
    }
   ],
   "source": [
    "df3"
   ]
  },
  {
   "cell_type": "code",
   "execution_count": 23,
   "id": "11d951f1",
   "metadata": {},
   "outputs": [
    {
     "data": {
      "text/plain": [
       "120"
      ]
     },
     "execution_count": 23,
     "metadata": {},
     "output_type": "execute_result"
    }
   ],
   "source": [
    "24+24+72"
   ]
  },
  {
   "cell_type": "code",
   "execution_count": 24,
   "id": "07e1f4a7",
   "metadata": {},
   "outputs": [],
   "source": [
    "df = pd.read_csv(\"result.csv\")"
   ]
  },
  {
   "cell_type": "code",
   "execution_count": 25,
   "id": "cc3c6853",
   "metadata": {},
   "outputs": [
    {
     "data": {
      "text/html": [
       "<div>\n",
       "<style scoped>\n",
       "    .dataframe tbody tr th:only-of-type {\n",
       "        vertical-align: middle;\n",
       "    }\n",
       "\n",
       "    .dataframe tbody tr th {\n",
       "        vertical-align: top;\n",
       "    }\n",
       "\n",
       "    .dataframe thead th {\n",
       "        text-align: right;\n",
       "    }\n",
       "</style>\n",
       "<table border=\"1\" class=\"dataframe\">\n",
       "  <thead>\n",
       "    <tr style=\"text-align: right;\">\n",
       "      <th></th>\n",
       "      <th>Unnamed: 0</th>\n",
       "      <th>Price</th>\n",
       "      <th>Brand</th>\n",
       "      <th>Model</th>\n",
       "      <th>Color</th>\n",
       "      <th>RAM</th>\n",
       "      <th>ROM</th>\n",
       "      <th>SS</th>\n",
       "      <th>Battery</th>\n",
       "    </tr>\n",
       "  </thead>\n",
       "  <tbody>\n",
       "    <tr>\n",
       "      <th>0</th>\n",
       "      <td>0.0</td>\n",
       "      <td>₹10,999</td>\n",
       "      <td>SAMSUNG</td>\n",
       "      <td>SAMSUNG Galaxy F13</td>\n",
       "      <td>Waterfall Blue</td>\n",
       "      <td>4</td>\n",
       "      <td>64</td>\n",
       "      <td>6.6</td>\n",
       "      <td>6000</td>\n",
       "    </tr>\n",
       "    <tr>\n",
       "      <th>1</th>\n",
       "      <td>1.0</td>\n",
       "      <td>₹8,499</td>\n",
       "      <td>SAMSUNG</td>\n",
       "      <td>SAMSUNG Galaxy F04</td>\n",
       "      <td>Opal Green</td>\n",
       "      <td>4</td>\n",
       "      <td>64</td>\n",
       "      <td>6.5</td>\n",
       "      <td>5000</td>\n",
       "    </tr>\n",
       "    <tr>\n",
       "      <th>2</th>\n",
       "      <td>2.0</td>\n",
       "      <td>₹6,999</td>\n",
       "      <td>POCO</td>\n",
       "      <td>POCO C51</td>\n",
       "      <td>Royal Blue</td>\n",
       "      <td>4</td>\n",
       "      <td>64</td>\n",
       "      <td>6.52</td>\n",
       "      <td>5000</td>\n",
       "    </tr>\n",
       "    <tr>\n",
       "      <th>3</th>\n",
       "      <td>3.0</td>\n",
       "      <td>₹6,999</td>\n",
       "      <td>POCO</td>\n",
       "      <td>POCO C51</td>\n",
       "      <td>Power Black</td>\n",
       "      <td>4</td>\n",
       "      <td>64</td>\n",
       "      <td>6.52</td>\n",
       "      <td>5000</td>\n",
       "    </tr>\n",
       "    <tr>\n",
       "      <th>4</th>\n",
       "      <td>4.0</td>\n",
       "      <td>₹9,499</td>\n",
       "      <td>Infinix</td>\n",
       "      <td>Infinix HOT 30i</td>\n",
       "      <td>Glacier Blue</td>\n",
       "      <td>8</td>\n",
       "      <td>128</td>\n",
       "      <td>6.6</td>\n",
       "      <td>5000</td>\n",
       "    </tr>\n",
       "    <tr>\n",
       "      <th>...</th>\n",
       "      <td>...</td>\n",
       "      <td>...</td>\n",
       "      <td>...</td>\n",
       "      <td>...</td>\n",
       "      <td>...</td>\n",
       "      <td>...</td>\n",
       "      <td>...</td>\n",
       "      <td>...</td>\n",
       "      <td>...</td>\n",
       "    </tr>\n",
       "    <tr>\n",
       "      <th>67</th>\n",
       "      <td>NaN</td>\n",
       "      <td>₹13,999</td>\n",
       "      <td>realme</td>\n",
       "      <td>realme C55</td>\n",
       "      <td>Sunshower</td>\n",
       "      <td>8</td>\n",
       "      <td>128</td>\n",
       "      <td>6.72</td>\n",
       "      <td>5000</td>\n",
       "    </tr>\n",
       "    <tr>\n",
       "      <th>68</th>\n",
       "      <td>NaN</td>\n",
       "      <td>₹13,999</td>\n",
       "      <td>realme</td>\n",
       "      <td>realme C55</td>\n",
       "      <td>Rainforest</td>\n",
       "      <td>8</td>\n",
       "      <td>128</td>\n",
       "      <td>6.72</td>\n",
       "      <td>5000</td>\n",
       "    </tr>\n",
       "    <tr>\n",
       "      <th>69</th>\n",
       "      <td>NaN</td>\n",
       "      <td>₹11,999</td>\n",
       "      <td>realme</td>\n",
       "      <td>realme C55</td>\n",
       "      <td>Rainy Night</td>\n",
       "      <td>6</td>\n",
       "      <td>64</td>\n",
       "      <td>6.72</td>\n",
       "      <td>5000</td>\n",
       "    </tr>\n",
       "    <tr>\n",
       "      <th>70</th>\n",
       "      <td>NaN</td>\n",
       "      <td>₹11,999</td>\n",
       "      <td>realme</td>\n",
       "      <td>realme C55</td>\n",
       "      <td>Rainforest</td>\n",
       "      <td>6</td>\n",
       "      <td>64</td>\n",
       "      <td>6.72</td>\n",
       "      <td>5000</td>\n",
       "    </tr>\n",
       "    <tr>\n",
       "      <th>71</th>\n",
       "      <td>NaN</td>\n",
       "      <td>₹7,749</td>\n",
       "      <td>POCO</td>\n",
       "      <td>POCO C55</td>\n",
       "      <td>Forest Green</td>\n",
       "      <td>4</td>\n",
       "      <td>64</td>\n",
       "      <td>6.71</td>\n",
       "      <td>5000</td>\n",
       "    </tr>\n",
       "  </tbody>\n",
       "</table>\n",
       "<p>120 rows × 9 columns</p>\n",
       "</div>"
      ],
      "text/plain": [
       "    Unnamed: 0    Price    Brand               Model           Color RAM  ROM  \\\n",
       "0          0.0  ₹10,999  SAMSUNG  SAMSUNG Galaxy F13  Waterfall Blue   4   64   \n",
       "1          1.0   ₹8,499  SAMSUNG  SAMSUNG Galaxy F04      Opal Green   4   64   \n",
       "2          2.0   ₹6,999     POCO            POCO C51      Royal Blue   4   64   \n",
       "3          3.0   ₹6,999     POCO            POCO C51     Power Black   4   64   \n",
       "4          4.0   ₹9,499  Infinix     Infinix HOT 30i    Glacier Blue   8  128   \n",
       "..         ...      ...      ...                 ...             ...  ..  ...   \n",
       "67         NaN  ₹13,999   realme          realme C55       Sunshower   8  128   \n",
       "68         NaN  ₹13,999   realme          realme C55      Rainforest   8  128   \n",
       "69         NaN  ₹11,999   realme          realme C55     Rainy Night   6   64   \n",
       "70         NaN  ₹11,999   realme          realme C55      Rainforest   6   64   \n",
       "71         NaN   ₹7,749     POCO            POCO C55    Forest Green   4   64   \n",
       "\n",
       "      SS Battery  \n",
       "0    6.6    6000  \n",
       "1    6.5    5000  \n",
       "2   6.52    5000  \n",
       "3   6.52    5000  \n",
       "4    6.6    5000  \n",
       "..   ...     ...  \n",
       "67  6.72    5000  \n",
       "68  6.72    5000  \n",
       "69  6.72    5000  \n",
       "70  6.72    5000  \n",
       "71  6.71    5000  \n",
       "\n",
       "[120 rows x 9 columns]"
      ]
     },
     "execution_count": 25,
     "metadata": {},
     "output_type": "execute_result"
    }
   ],
   "source": [
    "final = pd.concat([df,df2,df3],axis=0)\n",
    "final"
   ]
  },
  {
   "cell_type": "code",
   "execution_count": 27,
   "id": "6ba015be",
   "metadata": {},
   "outputs": [
    {
     "data": {
      "text/html": [
       "<div>\n",
       "<style scoped>\n",
       "    .dataframe tbody tr th:only-of-type {\n",
       "        vertical-align: middle;\n",
       "    }\n",
       "\n",
       "    .dataframe tbody tr th {\n",
       "        vertical-align: top;\n",
       "    }\n",
       "\n",
       "    .dataframe thead th {\n",
       "        text-align: right;\n",
       "    }\n",
       "</style>\n",
       "<table border=\"1\" class=\"dataframe\">\n",
       "  <thead>\n",
       "    <tr style=\"text-align: right;\">\n",
       "      <th></th>\n",
       "      <th>Unnamed: 0</th>\n",
       "      <th>Price</th>\n",
       "      <th>Brand</th>\n",
       "      <th>Model</th>\n",
       "      <th>Color</th>\n",
       "      <th>RAM</th>\n",
       "      <th>ROM</th>\n",
       "      <th>SS</th>\n",
       "      <th>Battery</th>\n",
       "    </tr>\n",
       "  </thead>\n",
       "  <tbody>\n",
       "    <tr>\n",
       "      <th>0</th>\n",
       "      <td>0.0</td>\n",
       "      <td>₹10,999</td>\n",
       "      <td>SAMSUNG</td>\n",
       "      <td>SAMSUNG Galaxy F13</td>\n",
       "      <td>Waterfall Blue</td>\n",
       "      <td>4</td>\n",
       "      <td>64</td>\n",
       "      <td>6.6</td>\n",
       "      <td>6000</td>\n",
       "    </tr>\n",
       "    <tr>\n",
       "      <th>1</th>\n",
       "      <td>1.0</td>\n",
       "      <td>₹8,499</td>\n",
       "      <td>SAMSUNG</td>\n",
       "      <td>SAMSUNG Galaxy F04</td>\n",
       "      <td>Opal Green</td>\n",
       "      <td>4</td>\n",
       "      <td>64</td>\n",
       "      <td>6.5</td>\n",
       "      <td>5000</td>\n",
       "    </tr>\n",
       "    <tr>\n",
       "      <th>2</th>\n",
       "      <td>2.0</td>\n",
       "      <td>₹6,999</td>\n",
       "      <td>POCO</td>\n",
       "      <td>POCO C51</td>\n",
       "      <td>Royal Blue</td>\n",
       "      <td>4</td>\n",
       "      <td>64</td>\n",
       "      <td>6.52</td>\n",
       "      <td>5000</td>\n",
       "    </tr>\n",
       "    <tr>\n",
       "      <th>3</th>\n",
       "      <td>3.0</td>\n",
       "      <td>₹6,999</td>\n",
       "      <td>POCO</td>\n",
       "      <td>POCO C51</td>\n",
       "      <td>Power Black</td>\n",
       "      <td>4</td>\n",
       "      <td>64</td>\n",
       "      <td>6.52</td>\n",
       "      <td>5000</td>\n",
       "    </tr>\n",
       "    <tr>\n",
       "      <th>4</th>\n",
       "      <td>4.0</td>\n",
       "      <td>₹9,499</td>\n",
       "      <td>Infinix</td>\n",
       "      <td>Infinix HOT 30i</td>\n",
       "      <td>Glacier Blue</td>\n",
       "      <td>8</td>\n",
       "      <td>128</td>\n",
       "      <td>6.6</td>\n",
       "      <td>5000</td>\n",
       "    </tr>\n",
       "  </tbody>\n",
       "</table>\n",
       "</div>"
      ],
      "text/plain": [
       "   Unnamed: 0    Price    Brand               Model           Color RAM  ROM  \\\n",
       "0         0.0  ₹10,999  SAMSUNG  SAMSUNG Galaxy F13  Waterfall Blue   4   64   \n",
       "1         1.0   ₹8,499  SAMSUNG  SAMSUNG Galaxy F04      Opal Green   4   64   \n",
       "2         2.0   ₹6,999     POCO            POCO C51      Royal Blue   4   64   \n",
       "3         3.0   ₹6,999     POCO            POCO C51     Power Black   4   64   \n",
       "4         4.0   ₹9,499  Infinix     Infinix HOT 30i    Glacier Blue   8  128   \n",
       "\n",
       "     SS Battery  \n",
       "0   6.6    6000  \n",
       "1   6.5    5000  \n",
       "2  6.52    5000  \n",
       "3  6.52    5000  \n",
       "4   6.6    5000  "
      ]
     },
     "execution_count": 27,
     "metadata": {},
     "output_type": "execute_result"
    }
   ],
   "source": [
    "final = final.reset_index(drop=True)\n",
    "final.head()"
   ]
  },
  {
   "cell_type": "code",
   "execution_count": 28,
   "id": "e8842986",
   "metadata": {},
   "outputs": [],
   "source": [
    "final.drop(['Unnamed: 0'],axis=1,inplace=True)"
   ]
  },
  {
   "cell_type": "code",
   "execution_count": 29,
   "id": "5ad5cf0f",
   "metadata": {},
   "outputs": [
    {
     "data": {
      "text/html": [
       "<div>\n",
       "<style scoped>\n",
       "    .dataframe tbody tr th:only-of-type {\n",
       "        vertical-align: middle;\n",
       "    }\n",
       "\n",
       "    .dataframe tbody tr th {\n",
       "        vertical-align: top;\n",
       "    }\n",
       "\n",
       "    .dataframe thead th {\n",
       "        text-align: right;\n",
       "    }\n",
       "</style>\n",
       "<table border=\"1\" class=\"dataframe\">\n",
       "  <thead>\n",
       "    <tr style=\"text-align: right;\">\n",
       "      <th></th>\n",
       "      <th>Price</th>\n",
       "      <th>Brand</th>\n",
       "      <th>Model</th>\n",
       "      <th>Color</th>\n",
       "      <th>RAM</th>\n",
       "      <th>ROM</th>\n",
       "      <th>SS</th>\n",
       "      <th>Battery</th>\n",
       "    </tr>\n",
       "  </thead>\n",
       "  <tbody>\n",
       "    <tr>\n",
       "      <th>0</th>\n",
       "      <td>₹10,999</td>\n",
       "      <td>SAMSUNG</td>\n",
       "      <td>SAMSUNG Galaxy F13</td>\n",
       "      <td>Waterfall Blue</td>\n",
       "      <td>4</td>\n",
       "      <td>64</td>\n",
       "      <td>6.6</td>\n",
       "      <td>6000</td>\n",
       "    </tr>\n",
       "    <tr>\n",
       "      <th>1</th>\n",
       "      <td>₹8,499</td>\n",
       "      <td>SAMSUNG</td>\n",
       "      <td>SAMSUNG Galaxy F04</td>\n",
       "      <td>Opal Green</td>\n",
       "      <td>4</td>\n",
       "      <td>64</td>\n",
       "      <td>6.5</td>\n",
       "      <td>5000</td>\n",
       "    </tr>\n",
       "    <tr>\n",
       "      <th>2</th>\n",
       "      <td>₹6,999</td>\n",
       "      <td>POCO</td>\n",
       "      <td>POCO C51</td>\n",
       "      <td>Royal Blue</td>\n",
       "      <td>4</td>\n",
       "      <td>64</td>\n",
       "      <td>6.52</td>\n",
       "      <td>5000</td>\n",
       "    </tr>\n",
       "  </tbody>\n",
       "</table>\n",
       "</div>"
      ],
      "text/plain": [
       "     Price    Brand               Model           Color RAM ROM    SS Battery\n",
       "0  ₹10,999  SAMSUNG  SAMSUNG Galaxy F13  Waterfall Blue   4  64   6.6    6000\n",
       "1   ₹8,499  SAMSUNG  SAMSUNG Galaxy F04      Opal Green   4  64   6.5    5000\n",
       "2   ₹6,999     POCO            POCO C51      Royal Blue   4  64  6.52    5000"
      ]
     },
     "execution_count": 29,
     "metadata": {},
     "output_type": "execute_result"
    }
   ],
   "source": [
    "final.head(3)"
   ]
  },
  {
   "cell_type": "code",
   "execution_count": 30,
   "id": "3ef19234",
   "metadata": {},
   "outputs": [],
   "source": [
    "#final.to_csv(\"result2.csv\")"
   ]
  },
  {
   "cell_type": "markdown",
   "id": "604cf88f",
   "metadata": {},
   "source": [
    "## Data Cleaning"
   ]
  },
  {
   "cell_type": "code",
   "execution_count": 32,
   "id": "1e456873",
   "metadata": {},
   "outputs": [
    {
     "name": "stdout",
     "output_type": "stream",
     "text": [
      "<class 'pandas.core.frame.DataFrame'>\n",
      "RangeIndex: 120 entries, 0 to 119\n",
      "Data columns (total 8 columns):\n",
      " #   Column   Non-Null Count  Dtype \n",
      "---  ------   --------------  ----- \n",
      " 0   Price    120 non-null    object\n",
      " 1   Brand    120 non-null    object\n",
      " 2   Model    120 non-null    object\n",
      " 3   Color    120 non-null    object\n",
      " 4   RAM      120 non-null    object\n",
      " 5   ROM      120 non-null    object\n",
      " 6   SS       120 non-null    object\n",
      " 7   Battery  120 non-null    object\n",
      "dtypes: object(8)\n",
      "memory usage: 7.6+ KB\n"
     ]
    }
   ],
   "source": [
    "final.info()"
   ]
  },
  {
   "cell_type": "markdown",
   "id": "a2b1ac6d",
   "metadata": {},
   "source": [
    "### type conversion"
   ]
  },
  {
   "cell_type": "code",
   "execution_count": 33,
   "id": "cbe4c166",
   "metadata": {},
   "outputs": [],
   "source": [
    "final['RAM'] = final['RAM'].astype(\"int\")\n",
    "final['ROM'] = final['ROM'].astype(\"int\")\n",
    "final['Battery'] = final['Battery'].astype(\"int\")\n",
    "final['SS'] = final['SS'].astype(\"float\")"
   ]
  },
  {
   "cell_type": "code",
   "execution_count": 34,
   "id": "7faf43d9",
   "metadata": {},
   "outputs": [
    {
     "name": "stdout",
     "output_type": "stream",
     "text": [
      "<class 'pandas.core.frame.DataFrame'>\n",
      "RangeIndex: 120 entries, 0 to 119\n",
      "Data columns (total 8 columns):\n",
      " #   Column   Non-Null Count  Dtype  \n",
      "---  ------   --------------  -----  \n",
      " 0   Price    120 non-null    object \n",
      " 1   Brand    120 non-null    object \n",
      " 2   Model    120 non-null    object \n",
      " 3   Color    120 non-null    object \n",
      " 4   RAM      120 non-null    int32  \n",
      " 5   ROM      120 non-null    int32  \n",
      " 6   SS       120 non-null    float64\n",
      " 7   Battery  120 non-null    int32  \n",
      "dtypes: float64(1), int32(3), object(4)\n",
      "memory usage: 6.2+ KB\n"
     ]
    }
   ],
   "source": [
    "final.info()"
   ]
  },
  {
   "cell_type": "code",
   "execution_count": 35,
   "id": "fa158edc",
   "metadata": {},
   "outputs": [
    {
     "ename": "ValueError",
     "evalue": "invalid literal for int() with base 10: '₹10,999'",
     "output_type": "error",
     "traceback": [
      "\u001b[1;31m---------------------------------------------------------------------------\u001b[0m",
      "\u001b[1;31mValueError\u001b[0m                                Traceback (most recent call last)",
      "\u001b[1;32m~\\AppData\\Local\\Temp/ipykernel_7152/3433637826.py\u001b[0m in \u001b[0;36m<module>\u001b[1;34m\u001b[0m\n\u001b[1;32m----> 1\u001b[1;33m \u001b[0mfinal\u001b[0m\u001b[1;33m[\u001b[0m\u001b[1;34m'Price'\u001b[0m\u001b[1;33m]\u001b[0m \u001b[1;33m=\u001b[0m \u001b[0mfinal\u001b[0m\u001b[1;33m[\u001b[0m\u001b[1;34m'Price'\u001b[0m\u001b[1;33m]\u001b[0m\u001b[1;33m.\u001b[0m\u001b[0mastype\u001b[0m\u001b[1;33m(\u001b[0m\u001b[1;34m\"int\"\u001b[0m\u001b[1;33m)\u001b[0m\u001b[1;33m\u001b[0m\u001b[1;33m\u001b[0m\u001b[0m\n\u001b[0m",
      "\u001b[1;32mC:\\ProgramData\\Anaconda3\\lib\\site-packages\\pandas\\core\\generic.py\u001b[0m in \u001b[0;36mastype\u001b[1;34m(self, dtype, copy, errors)\u001b[0m\n\u001b[0;32m   5813\u001b[0m         \u001b[1;32melse\u001b[0m\u001b[1;33m:\u001b[0m\u001b[1;33m\u001b[0m\u001b[1;33m\u001b[0m\u001b[0m\n\u001b[0;32m   5814\u001b[0m             \u001b[1;31m# else, only a single dtype is given\u001b[0m\u001b[1;33m\u001b[0m\u001b[1;33m\u001b[0m\u001b[0m\n\u001b[1;32m-> 5815\u001b[1;33m             \u001b[0mnew_data\u001b[0m \u001b[1;33m=\u001b[0m \u001b[0mself\u001b[0m\u001b[1;33m.\u001b[0m\u001b[0m_mgr\u001b[0m\u001b[1;33m.\u001b[0m\u001b[0mastype\u001b[0m\u001b[1;33m(\u001b[0m\u001b[0mdtype\u001b[0m\u001b[1;33m=\u001b[0m\u001b[0mdtype\u001b[0m\u001b[1;33m,\u001b[0m \u001b[0mcopy\u001b[0m\u001b[1;33m=\u001b[0m\u001b[0mcopy\u001b[0m\u001b[1;33m,\u001b[0m \u001b[0merrors\u001b[0m\u001b[1;33m=\u001b[0m\u001b[0merrors\u001b[0m\u001b[1;33m)\u001b[0m\u001b[1;33m\u001b[0m\u001b[1;33m\u001b[0m\u001b[0m\n\u001b[0m\u001b[0;32m   5816\u001b[0m             \u001b[1;32mreturn\u001b[0m \u001b[0mself\u001b[0m\u001b[1;33m.\u001b[0m\u001b[0m_constructor\u001b[0m\u001b[1;33m(\u001b[0m\u001b[0mnew_data\u001b[0m\u001b[1;33m)\u001b[0m\u001b[1;33m.\u001b[0m\u001b[0m__finalize__\u001b[0m\u001b[1;33m(\u001b[0m\u001b[0mself\u001b[0m\u001b[1;33m,\u001b[0m \u001b[0mmethod\u001b[0m\u001b[1;33m=\u001b[0m\u001b[1;34m\"astype\"\u001b[0m\u001b[1;33m)\u001b[0m\u001b[1;33m\u001b[0m\u001b[1;33m\u001b[0m\u001b[0m\n\u001b[0;32m   5817\u001b[0m \u001b[1;33m\u001b[0m\u001b[0m\n",
      "\u001b[1;32mC:\\ProgramData\\Anaconda3\\lib\\site-packages\\pandas\\core\\internals\\managers.py\u001b[0m in \u001b[0;36mastype\u001b[1;34m(self, dtype, copy, errors)\u001b[0m\n\u001b[0;32m    416\u001b[0m \u001b[1;33m\u001b[0m\u001b[0m\n\u001b[0;32m    417\u001b[0m     \u001b[1;32mdef\u001b[0m \u001b[0mastype\u001b[0m\u001b[1;33m(\u001b[0m\u001b[0mself\u001b[0m\u001b[1;33m:\u001b[0m \u001b[0mT\u001b[0m\u001b[1;33m,\u001b[0m \u001b[0mdtype\u001b[0m\u001b[1;33m,\u001b[0m \u001b[0mcopy\u001b[0m\u001b[1;33m:\u001b[0m \u001b[0mbool\u001b[0m \u001b[1;33m=\u001b[0m \u001b[1;32mFalse\u001b[0m\u001b[1;33m,\u001b[0m \u001b[0merrors\u001b[0m\u001b[1;33m:\u001b[0m \u001b[0mstr\u001b[0m \u001b[1;33m=\u001b[0m \u001b[1;34m\"raise\"\u001b[0m\u001b[1;33m)\u001b[0m \u001b[1;33m->\u001b[0m \u001b[0mT\u001b[0m\u001b[1;33m:\u001b[0m\u001b[1;33m\u001b[0m\u001b[1;33m\u001b[0m\u001b[0m\n\u001b[1;32m--> 418\u001b[1;33m         \u001b[1;32mreturn\u001b[0m \u001b[0mself\u001b[0m\u001b[1;33m.\u001b[0m\u001b[0mapply\u001b[0m\u001b[1;33m(\u001b[0m\u001b[1;34m\"astype\"\u001b[0m\u001b[1;33m,\u001b[0m \u001b[0mdtype\u001b[0m\u001b[1;33m=\u001b[0m\u001b[0mdtype\u001b[0m\u001b[1;33m,\u001b[0m \u001b[0mcopy\u001b[0m\u001b[1;33m=\u001b[0m\u001b[0mcopy\u001b[0m\u001b[1;33m,\u001b[0m \u001b[0merrors\u001b[0m\u001b[1;33m=\u001b[0m\u001b[0merrors\u001b[0m\u001b[1;33m)\u001b[0m\u001b[1;33m\u001b[0m\u001b[1;33m\u001b[0m\u001b[0m\n\u001b[0m\u001b[0;32m    419\u001b[0m \u001b[1;33m\u001b[0m\u001b[0m\n\u001b[0;32m    420\u001b[0m     def convert(\n",
      "\u001b[1;32mC:\\ProgramData\\Anaconda3\\lib\\site-packages\\pandas\\core\\internals\\managers.py\u001b[0m in \u001b[0;36mapply\u001b[1;34m(self, f, align_keys, ignore_failures, **kwargs)\u001b[0m\n\u001b[0;32m    325\u001b[0m                     \u001b[0mapplied\u001b[0m \u001b[1;33m=\u001b[0m \u001b[0mb\u001b[0m\u001b[1;33m.\u001b[0m\u001b[0mapply\u001b[0m\u001b[1;33m(\u001b[0m\u001b[0mf\u001b[0m\u001b[1;33m,\u001b[0m \u001b[1;33m**\u001b[0m\u001b[0mkwargs\u001b[0m\u001b[1;33m)\u001b[0m\u001b[1;33m\u001b[0m\u001b[1;33m\u001b[0m\u001b[0m\n\u001b[0;32m    326\u001b[0m                 \u001b[1;32melse\u001b[0m\u001b[1;33m:\u001b[0m\u001b[1;33m\u001b[0m\u001b[1;33m\u001b[0m\u001b[0m\n\u001b[1;32m--> 327\u001b[1;33m                     \u001b[0mapplied\u001b[0m \u001b[1;33m=\u001b[0m \u001b[0mgetattr\u001b[0m\u001b[1;33m(\u001b[0m\u001b[0mb\u001b[0m\u001b[1;33m,\u001b[0m \u001b[0mf\u001b[0m\u001b[1;33m)\u001b[0m\u001b[1;33m(\u001b[0m\u001b[1;33m**\u001b[0m\u001b[0mkwargs\u001b[0m\u001b[1;33m)\u001b[0m\u001b[1;33m\u001b[0m\u001b[1;33m\u001b[0m\u001b[0m\n\u001b[0m\u001b[0;32m    328\u001b[0m             \u001b[1;32mexcept\u001b[0m \u001b[1;33m(\u001b[0m\u001b[0mTypeError\u001b[0m\u001b[1;33m,\u001b[0m \u001b[0mNotImplementedError\u001b[0m\u001b[1;33m)\u001b[0m\u001b[1;33m:\u001b[0m\u001b[1;33m\u001b[0m\u001b[1;33m\u001b[0m\u001b[0m\n\u001b[0;32m    329\u001b[0m                 \u001b[1;32mif\u001b[0m \u001b[1;32mnot\u001b[0m \u001b[0mignore_failures\u001b[0m\u001b[1;33m:\u001b[0m\u001b[1;33m\u001b[0m\u001b[1;33m\u001b[0m\u001b[0m\n",
      "\u001b[1;32mC:\\ProgramData\\Anaconda3\\lib\\site-packages\\pandas\\core\\internals\\blocks.py\u001b[0m in \u001b[0;36mastype\u001b[1;34m(self, dtype, copy, errors)\u001b[0m\n\u001b[0;32m    589\u001b[0m         \u001b[0mvalues\u001b[0m \u001b[1;33m=\u001b[0m \u001b[0mself\u001b[0m\u001b[1;33m.\u001b[0m\u001b[0mvalues\u001b[0m\u001b[1;33m\u001b[0m\u001b[1;33m\u001b[0m\u001b[0m\n\u001b[0;32m    590\u001b[0m \u001b[1;33m\u001b[0m\u001b[0m\n\u001b[1;32m--> 591\u001b[1;33m         \u001b[0mnew_values\u001b[0m \u001b[1;33m=\u001b[0m \u001b[0mastype_array_safe\u001b[0m\u001b[1;33m(\u001b[0m\u001b[0mvalues\u001b[0m\u001b[1;33m,\u001b[0m \u001b[0mdtype\u001b[0m\u001b[1;33m,\u001b[0m \u001b[0mcopy\u001b[0m\u001b[1;33m=\u001b[0m\u001b[0mcopy\u001b[0m\u001b[1;33m,\u001b[0m \u001b[0merrors\u001b[0m\u001b[1;33m=\u001b[0m\u001b[0merrors\u001b[0m\u001b[1;33m)\u001b[0m\u001b[1;33m\u001b[0m\u001b[1;33m\u001b[0m\u001b[0m\n\u001b[0m\u001b[0;32m    592\u001b[0m \u001b[1;33m\u001b[0m\u001b[0m\n\u001b[0;32m    593\u001b[0m         \u001b[0mnew_values\u001b[0m \u001b[1;33m=\u001b[0m \u001b[0mmaybe_coerce_values\u001b[0m\u001b[1;33m(\u001b[0m\u001b[0mnew_values\u001b[0m\u001b[1;33m)\u001b[0m\u001b[1;33m\u001b[0m\u001b[1;33m\u001b[0m\u001b[0m\n",
      "\u001b[1;32mC:\\ProgramData\\Anaconda3\\lib\\site-packages\\pandas\\core\\dtypes\\cast.py\u001b[0m in \u001b[0;36mastype_array_safe\u001b[1;34m(values, dtype, copy, errors)\u001b[0m\n\u001b[0;32m   1307\u001b[0m \u001b[1;33m\u001b[0m\u001b[0m\n\u001b[0;32m   1308\u001b[0m     \u001b[1;32mtry\u001b[0m\u001b[1;33m:\u001b[0m\u001b[1;33m\u001b[0m\u001b[1;33m\u001b[0m\u001b[0m\n\u001b[1;32m-> 1309\u001b[1;33m         \u001b[0mnew_values\u001b[0m \u001b[1;33m=\u001b[0m \u001b[0mastype_array\u001b[0m\u001b[1;33m(\u001b[0m\u001b[0mvalues\u001b[0m\u001b[1;33m,\u001b[0m \u001b[0mdtype\u001b[0m\u001b[1;33m,\u001b[0m \u001b[0mcopy\u001b[0m\u001b[1;33m=\u001b[0m\u001b[0mcopy\u001b[0m\u001b[1;33m)\u001b[0m\u001b[1;33m\u001b[0m\u001b[1;33m\u001b[0m\u001b[0m\n\u001b[0m\u001b[0;32m   1310\u001b[0m     \u001b[1;32mexcept\u001b[0m \u001b[1;33m(\u001b[0m\u001b[0mValueError\u001b[0m\u001b[1;33m,\u001b[0m \u001b[0mTypeError\u001b[0m\u001b[1;33m)\u001b[0m\u001b[1;33m:\u001b[0m\u001b[1;33m\u001b[0m\u001b[1;33m\u001b[0m\u001b[0m\n\u001b[0;32m   1311\u001b[0m         \u001b[1;31m# e.g. astype_nansafe can fail on object-dtype of strings\u001b[0m\u001b[1;33m\u001b[0m\u001b[1;33m\u001b[0m\u001b[0m\n",
      "\u001b[1;32mC:\\ProgramData\\Anaconda3\\lib\\site-packages\\pandas\\core\\dtypes\\cast.py\u001b[0m in \u001b[0;36mastype_array\u001b[1;34m(values, dtype, copy)\u001b[0m\n\u001b[0;32m   1255\u001b[0m \u001b[1;33m\u001b[0m\u001b[0m\n\u001b[0;32m   1256\u001b[0m     \u001b[1;32melse\u001b[0m\u001b[1;33m:\u001b[0m\u001b[1;33m\u001b[0m\u001b[1;33m\u001b[0m\u001b[0m\n\u001b[1;32m-> 1257\u001b[1;33m         \u001b[0mvalues\u001b[0m \u001b[1;33m=\u001b[0m \u001b[0mastype_nansafe\u001b[0m\u001b[1;33m(\u001b[0m\u001b[0mvalues\u001b[0m\u001b[1;33m,\u001b[0m \u001b[0mdtype\u001b[0m\u001b[1;33m,\u001b[0m \u001b[0mcopy\u001b[0m\u001b[1;33m=\u001b[0m\u001b[0mcopy\u001b[0m\u001b[1;33m)\u001b[0m\u001b[1;33m\u001b[0m\u001b[1;33m\u001b[0m\u001b[0m\n\u001b[0m\u001b[0;32m   1258\u001b[0m \u001b[1;33m\u001b[0m\u001b[0m\n\u001b[0;32m   1259\u001b[0m     \u001b[1;31m# in pandas we don't store numpy str dtypes, so convert to object\u001b[0m\u001b[1;33m\u001b[0m\u001b[1;33m\u001b[0m\u001b[0m\n",
      "\u001b[1;32mC:\\ProgramData\\Anaconda3\\lib\\site-packages\\pandas\\core\\dtypes\\cast.py\u001b[0m in \u001b[0;36mastype_nansafe\u001b[1;34m(arr, dtype, copy, skipna)\u001b[0m\n\u001b[0;32m   1172\u001b[0m         \u001b[1;31m# work around NumPy brokenness, #1987\u001b[0m\u001b[1;33m\u001b[0m\u001b[1;33m\u001b[0m\u001b[0m\n\u001b[0;32m   1173\u001b[0m         \u001b[1;32mif\u001b[0m \u001b[0mnp\u001b[0m\u001b[1;33m.\u001b[0m\u001b[0missubdtype\u001b[0m\u001b[1;33m(\u001b[0m\u001b[0mdtype\u001b[0m\u001b[1;33m.\u001b[0m\u001b[0mtype\u001b[0m\u001b[1;33m,\u001b[0m \u001b[0mnp\u001b[0m\u001b[1;33m.\u001b[0m\u001b[0minteger\u001b[0m\u001b[1;33m)\u001b[0m\u001b[1;33m:\u001b[0m\u001b[1;33m\u001b[0m\u001b[1;33m\u001b[0m\u001b[0m\n\u001b[1;32m-> 1174\u001b[1;33m             \u001b[1;32mreturn\u001b[0m \u001b[0mlib\u001b[0m\u001b[1;33m.\u001b[0m\u001b[0mastype_intsafe\u001b[0m\u001b[1;33m(\u001b[0m\u001b[0marr\u001b[0m\u001b[1;33m,\u001b[0m \u001b[0mdtype\u001b[0m\u001b[1;33m)\u001b[0m\u001b[1;33m\u001b[0m\u001b[1;33m\u001b[0m\u001b[0m\n\u001b[0m\u001b[0;32m   1175\u001b[0m \u001b[1;33m\u001b[0m\u001b[0m\n\u001b[0;32m   1176\u001b[0m         \u001b[1;31m# if we have a datetime/timedelta array of objects\u001b[0m\u001b[1;33m\u001b[0m\u001b[1;33m\u001b[0m\u001b[0m\n",
      "\u001b[1;32mC:\\ProgramData\\Anaconda3\\lib\\site-packages\\pandas\\_libs\\lib.pyx\u001b[0m in \u001b[0;36mpandas._libs.lib.astype_intsafe\u001b[1;34m()\u001b[0m\n",
      "\u001b[1;31mValueError\u001b[0m: invalid literal for int() with base 10: '₹10,999'"
     ]
    }
   ],
   "source": [
    "final['Price'] = final['Price'].astype(\"int\")"
   ]
  },
  {
   "cell_type": "code",
   "execution_count": 38,
   "id": "137916be",
   "metadata": {},
   "outputs": [
    {
     "data": {
      "text/plain": [
       "'₹10,999'"
      ]
     },
     "execution_count": 38,
     "metadata": {},
     "output_type": "execute_result"
    }
   ],
   "source": [
    "final['Price'][0]"
   ]
  },
  {
   "cell_type": "code",
   "execution_count": 39,
   "id": "e2245552",
   "metadata": {},
   "outputs": [
    {
     "data": {
      "text/plain": [
       "'10999'"
      ]
     },
     "execution_count": 39,
     "metadata": {},
     "output_type": "execute_result"
    }
   ],
   "source": [
    "re.sub(r\"[₹,]\",\"\",final['Price'][0])"
   ]
  },
  {
   "cell_type": "code",
   "execution_count": 42,
   "id": "85529552",
   "metadata": {},
   "outputs": [],
   "source": [
    "final['Price'] = [re.sub(r\"[₹,]\",\"\",i) for i in final['Price'] ]"
   ]
  },
  {
   "cell_type": "code",
   "execution_count": 43,
   "id": "dfdf6212",
   "metadata": {},
   "outputs": [
    {
     "data": {
      "text/html": [
       "<div>\n",
       "<style scoped>\n",
       "    .dataframe tbody tr th:only-of-type {\n",
       "        vertical-align: middle;\n",
       "    }\n",
       "\n",
       "    .dataframe tbody tr th {\n",
       "        vertical-align: top;\n",
       "    }\n",
       "\n",
       "    .dataframe thead th {\n",
       "        text-align: right;\n",
       "    }\n",
       "</style>\n",
       "<table border=\"1\" class=\"dataframe\">\n",
       "  <thead>\n",
       "    <tr style=\"text-align: right;\">\n",
       "      <th></th>\n",
       "      <th>Price</th>\n",
       "      <th>Brand</th>\n",
       "      <th>Model</th>\n",
       "      <th>Color</th>\n",
       "      <th>RAM</th>\n",
       "      <th>ROM</th>\n",
       "      <th>SS</th>\n",
       "      <th>Battery</th>\n",
       "    </tr>\n",
       "  </thead>\n",
       "  <tbody>\n",
       "    <tr>\n",
       "      <th>0</th>\n",
       "      <td>10999</td>\n",
       "      <td>SAMSUNG</td>\n",
       "      <td>SAMSUNG Galaxy F13</td>\n",
       "      <td>Waterfall Blue</td>\n",
       "      <td>4</td>\n",
       "      <td>64</td>\n",
       "      <td>6.60</td>\n",
       "      <td>6000</td>\n",
       "    </tr>\n",
       "    <tr>\n",
       "      <th>1</th>\n",
       "      <td>8499</td>\n",
       "      <td>SAMSUNG</td>\n",
       "      <td>SAMSUNG Galaxy F04</td>\n",
       "      <td>Opal Green</td>\n",
       "      <td>4</td>\n",
       "      <td>64</td>\n",
       "      <td>6.50</td>\n",
       "      <td>5000</td>\n",
       "    </tr>\n",
       "    <tr>\n",
       "      <th>2</th>\n",
       "      <td>6999</td>\n",
       "      <td>POCO</td>\n",
       "      <td>POCO C51</td>\n",
       "      <td>Royal Blue</td>\n",
       "      <td>4</td>\n",
       "      <td>64</td>\n",
       "      <td>6.52</td>\n",
       "      <td>5000</td>\n",
       "    </tr>\n",
       "  </tbody>\n",
       "</table>\n",
       "</div>"
      ],
      "text/plain": [
       "   Price    Brand               Model           Color  RAM  ROM    SS  Battery\n",
       "0  10999  SAMSUNG  SAMSUNG Galaxy F13  Waterfall Blue    4   64  6.60     6000\n",
       "1   8499  SAMSUNG  SAMSUNG Galaxy F04      Opal Green    4   64  6.50     5000\n",
       "2   6999     POCO            POCO C51      Royal Blue    4   64  6.52     5000"
      ]
     },
     "execution_count": 43,
     "metadata": {},
     "output_type": "execute_result"
    }
   ],
   "source": [
    "final.head(3)"
   ]
  },
  {
   "cell_type": "code",
   "execution_count": 44,
   "id": "6f2e25d1",
   "metadata": {},
   "outputs": [],
   "source": [
    "final['Price'] = final['Price'].astype(\"int\")"
   ]
  },
  {
   "cell_type": "code",
   "execution_count": 45,
   "id": "e43614a5",
   "metadata": {},
   "outputs": [
    {
     "name": "stdout",
     "output_type": "stream",
     "text": [
      "<class 'pandas.core.frame.DataFrame'>\n",
      "RangeIndex: 120 entries, 0 to 119\n",
      "Data columns (total 8 columns):\n",
      " #   Column   Non-Null Count  Dtype  \n",
      "---  ------   --------------  -----  \n",
      " 0   Price    120 non-null    int32  \n",
      " 1   Brand    120 non-null    object \n",
      " 2   Model    120 non-null    object \n",
      " 3   Color    120 non-null    object \n",
      " 4   RAM      120 non-null    int32  \n",
      " 5   ROM      120 non-null    int32  \n",
      " 6   SS       120 non-null    float64\n",
      " 7   Battery  120 non-null    int32  \n",
      "dtypes: float64(1), int32(4), object(3)\n",
      "memory usage: 5.8+ KB\n"
     ]
    }
   ],
   "source": [
    "final.info()"
   ]
  },
  {
   "cell_type": "markdown",
   "id": "a45d61a4",
   "metadata": {},
   "source": [
    "## Data Analysis\n",
    " - Uni variate\n",
    " - Bivariate\n",
    " - Multivariate"
   ]
  },
  {
   "cell_type": "markdown",
   "id": "3a0cfc71",
   "metadata": {},
   "source": [
    "### Uni variate Analysis"
   ]
  },
  {
   "cell_type": "code",
   "execution_count": 47,
   "id": "e5cfd1a1",
   "metadata": {},
   "outputs": [
    {
     "data": {
      "text/plain": [
       "array(['SAMSUNG', 'POCO', 'Infinix', 'MOTOROLA', 'vivo', 'REDMI',\n",
       "       'realme'], dtype=object)"
      ]
     },
     "execution_count": 47,
     "metadata": {},
     "output_type": "execute_result"
    }
   ],
   "source": [
    "final[\"Brand\"].unique()"
   ]
  },
  {
   "cell_type": "code",
   "execution_count": 48,
   "id": "fb17d8e7",
   "metadata": {},
   "outputs": [
    {
     "data": {
      "text/plain": [
       "7"
      ]
     },
     "execution_count": 48,
     "metadata": {},
     "output_type": "execute_result"
    }
   ],
   "source": [
    "final[\"Brand\"].nunique()"
   ]
  },
  {
   "cell_type": "code",
   "execution_count": 49,
   "id": "dbd8c01f",
   "metadata": {},
   "outputs": [
    {
     "data": {
      "text/plain": [
       "realme      33\n",
       "POCO        23\n",
       "Infinix     17\n",
       "MOTOROLA    17\n",
       "vivo        13\n",
       "REDMI       13\n",
       "SAMSUNG      4\n",
       "Name: Brand, dtype: int64"
      ]
     },
     "execution_count": 49,
     "metadata": {},
     "output_type": "execute_result"
    }
   ],
   "source": [
    "final[\"Brand\"].value_counts()"
   ]
  },
  {
   "cell_type": "code",
   "execution_count": 51,
   "id": "b2150661",
   "metadata": {},
   "outputs": [
    {
     "data": {
      "text/plain": [
       "15999"
      ]
     },
     "execution_count": 51,
     "metadata": {},
     "output_type": "execute_result"
    }
   ],
   "source": [
    "final['Price'].max()"
   ]
  },
  {
   "cell_type": "code",
   "execution_count": 52,
   "id": "45dcf24a",
   "metadata": {},
   "outputs": [
    {
     "data": {
      "text/plain": [
       "5649"
      ]
     },
     "execution_count": 52,
     "metadata": {},
     "output_type": "execute_result"
    }
   ],
   "source": [
    "final['Price'].min()"
   ]
  },
  {
   "cell_type": "code",
   "execution_count": 53,
   "id": "ac49a2c2",
   "metadata": {},
   "outputs": [
    {
     "data": {
      "text/plain": [
       "10298.583333333334"
      ]
     },
     "execution_count": 53,
     "metadata": {},
     "output_type": "execute_result"
    }
   ],
   "source": [
    "final['Price'].mean()"
   ]
  },
  {
   "cell_type": "code",
   "execution_count": 54,
   "id": "0e1da56b",
   "metadata": {},
   "outputs": [
    {
     "data": {
      "text/html": [
       "<div>\n",
       "<style scoped>\n",
       "    .dataframe tbody tr th:only-of-type {\n",
       "        vertical-align: middle;\n",
       "    }\n",
       "\n",
       "    .dataframe tbody tr th {\n",
       "        vertical-align: top;\n",
       "    }\n",
       "\n",
       "    .dataframe thead th {\n",
       "        text-align: right;\n",
       "    }\n",
       "</style>\n",
       "<table border=\"1\" class=\"dataframe\">\n",
       "  <thead>\n",
       "    <tr style=\"text-align: right;\">\n",
       "      <th></th>\n",
       "      <th>Price</th>\n",
       "      <th>RAM</th>\n",
       "      <th>ROM</th>\n",
       "      <th>SS</th>\n",
       "      <th>Battery</th>\n",
       "    </tr>\n",
       "  </thead>\n",
       "  <tbody>\n",
       "    <tr>\n",
       "      <th>count</th>\n",
       "      <td>120.000000</td>\n",
       "      <td>120.000000</td>\n",
       "      <td>120.000000</td>\n",
       "      <td>120.000000</td>\n",
       "      <td>120.000000</td>\n",
       "    </tr>\n",
       "    <tr>\n",
       "      <th>mean</th>\n",
       "      <td>10298.583333</td>\n",
       "      <td>5.016667</td>\n",
       "      <td>88.533333</td>\n",
       "      <td>6.624417</td>\n",
       "      <td>5116.666667</td>\n",
       "    </tr>\n",
       "    <tr>\n",
       "      <th>std</th>\n",
       "      <td>2573.789149</td>\n",
       "      <td>1.869631</td>\n",
       "      <td>34.393407</td>\n",
       "      <td>0.083764</td>\n",
       "      <td>322.368684</td>\n",
       "    </tr>\n",
       "    <tr>\n",
       "      <th>min</th>\n",
       "      <td>5649.000000</td>\n",
       "      <td>2.000000</td>\n",
       "      <td>32.000000</td>\n",
       "      <td>6.500000</td>\n",
       "      <td>5000.000000</td>\n",
       "    </tr>\n",
       "    <tr>\n",
       "      <th>25%</th>\n",
       "      <td>8299.000000</td>\n",
       "      <td>4.000000</td>\n",
       "      <td>64.000000</td>\n",
       "      <td>6.580000</td>\n",
       "      <td>5000.000000</td>\n",
       "    </tr>\n",
       "    <tr>\n",
       "      <th>50%</th>\n",
       "      <td>9999.000000</td>\n",
       "      <td>4.000000</td>\n",
       "      <td>64.000000</td>\n",
       "      <td>6.600000</td>\n",
       "      <td>5000.000000</td>\n",
       "    </tr>\n",
       "    <tr>\n",
       "      <th>75%</th>\n",
       "      <td>11999.000000</td>\n",
       "      <td>6.000000</td>\n",
       "      <td>128.000000</td>\n",
       "      <td>6.720000</td>\n",
       "      <td>5000.000000</td>\n",
       "    </tr>\n",
       "    <tr>\n",
       "      <th>max</th>\n",
       "      <td>15999.000000</td>\n",
       "      <td>8.000000</td>\n",
       "      <td>128.000000</td>\n",
       "      <td>6.720000</td>\n",
       "      <td>6000.000000</td>\n",
       "    </tr>\n",
       "  </tbody>\n",
       "</table>\n",
       "</div>"
      ],
      "text/plain": [
       "              Price         RAM         ROM          SS      Battery\n",
       "count    120.000000  120.000000  120.000000  120.000000   120.000000\n",
       "mean   10298.583333    5.016667   88.533333    6.624417  5116.666667\n",
       "std     2573.789149    1.869631   34.393407    0.083764   322.368684\n",
       "min     5649.000000    2.000000   32.000000    6.500000  5000.000000\n",
       "25%     8299.000000    4.000000   64.000000    6.580000  5000.000000\n",
       "50%     9999.000000    4.000000   64.000000    6.600000  5000.000000\n",
       "75%    11999.000000    6.000000  128.000000    6.720000  5000.000000\n",
       "max    15999.000000    8.000000  128.000000    6.720000  6000.000000"
      ]
     },
     "execution_count": 54,
     "metadata": {},
     "output_type": "execute_result"
    }
   ],
   "source": [
    "final.describe()"
   ]
  },
  {
   "cell_type": "code",
   "execution_count": 55,
   "id": "6b5fae25",
   "metadata": {},
   "outputs": [],
   "source": [
    "import matplotlib.pyplot as plt\n",
    "import seaborn as sns"
   ]
  },
  {
   "cell_type": "code",
   "execution_count": 56,
   "id": "619db129",
   "metadata": {},
   "outputs": [
    {
     "name": "stderr",
     "output_type": "stream",
     "text": [
      "C:\\ProgramData\\Anaconda3\\lib\\site-packages\\seaborn\\distributions.py:2619: FutureWarning: `distplot` is a deprecated function and will be removed in a future version. Please adapt your code to use either `displot` (a figure-level function with similar flexibility) or `histplot` (an axes-level function for histograms).\n",
      "  warnings.warn(msg, FutureWarning)\n"
     ]
    },
    {
     "data": {
      "text/plain": [
       "<AxesSubplot:xlabel='Price', ylabel='Density'>"
      ]
     },
     "execution_count": 56,
     "metadata": {},
     "output_type": "execute_result"
    },
    {
     "data": {
      "image/png": "[encoded data removed]",
      "text/plain": [
       "<Figure size 432x288 with 1 Axes>"
      ]
     },
     "metadata": {
      "needs_background": "light"
     },
     "output_type": "display_data"
    }
   ],
   "source": [
    "sns.distplot(final['Price'])"
   ]
  },
  {
   "cell_type": "code",
   "execution_count": 58,
   "id": "fb635940",
   "metadata": {},
   "outputs": [
    {
     "name": "stderr",
     "output_type": "stream",
     "text": [
      "C:\\ProgramData\\Anaconda3\\lib\\site-packages\\seaborn\\_decorators.py:36: FutureWarning: Pass the following variable as a keyword arg: x. From version 0.12, the only valid positional argument will be `data`, and passing other arguments without an explicit keyword will result in an error or misinterpretation.\n",
      "  warnings.warn(\n"
     ]
    },
    {
     "data": {
      "text/plain": [
       "<AxesSubplot:xlabel='Price'>"
      ]
     },
     "execution_count": 58,
     "metadata": {},
     "output_type": "execute_result"
    },
    {
     "data": {
      "image/png": "[encoded data removed]",
      "text/plain": [
       "<Figure size 432x288 with 1 Axes>"
      ]
     },
     "metadata": {
      "needs_background": "light"
     },
     "output_type": "display_data"
    }
   ],
   "source": [
    "sns.boxplot(final[\"Price\"])"
   ]
  },
  {
   "cell_type": "code",
   "execution_count": 59,
   "id": "21a5cb23",
   "metadata": {},
   "outputs": [
    {
     "data": {
      "text/plain": [
       "realme      33\n",
       "POCO        23\n",
       "Infinix     17\n",
       "MOTOROLA    17\n",
       "vivo        13\n",
       "REDMI       13\n",
       "SAMSUNG      4\n",
       "Name: Brand, dtype: int64"
      ]
     },
     "execution_count": 59,
     "metadata": {},
     "output_type": "execute_result"
    }
   ],
   "source": [
    "final[\"Brand\"].value_counts()"
   ]
  },
  {
   "cell_type": "code",
   "execution_count": 79,
   "id": "67d99366",
   "metadata": {},
   "outputs": [
    {
     "name": "stderr",
     "output_type": "stream",
     "text": [
      "C:\\ProgramData\\Anaconda3\\lib\\site-packages\\seaborn\\_decorators.py:36: FutureWarning: Pass the following variable as a keyword arg: x. From version 0.12, the only valid positional argument will be `data`, and passing other arguments without an explicit keyword will result in an error or misinterpretation.\n",
      "  warnings.warn(\n"
     ]
    },
    {
     "data": {
      "text/plain": [
       "<AxesSubplot:xlabel='Brand', ylabel='count'>"
      ]
     },
     "execution_count": 79,
     "metadata": {},
     "output_type": "execute_result"
    },
    {
     "data": {
      "image/png": "[encoded data removed]",
      "text/plain": [
       "<Figure size 432x288 with 1 Axes>"
      ]
     },
     "metadata": {
      "needs_background": "light"
     },
     "output_type": "display_data"
    }
   ],
   "source": [
    "sns.countplot(final[\"Brand\"])"
   ]
  },
  {
   "cell_type": "code",
   "execution_count": null,
   "id": "813c6a96",
   "metadata": {},
   "outputs": [],
   "source": []
  },
  {
   "cell_type": "code",
   "execution_count": null,
   "id": "855b4401",
   "metadata": {},
   "outputs": [],
   "source": []
  },
  {
   "cell_type": "code",
   "execution_count": 69,
   "id": "bec65213",
   "metadata": {},
   "outputs": [
    {
     "data": {
      "image/png": "[encoded data removed]",
      "text/plain": [
       "<Figure size 936x504 with 1 Axes>"
      ]
     },
     "metadata": {},
     "output_type": "display_data"
    }
   ],
   "source": [
    "plt.figure(figsize=(13,7))\n",
    "plt.pie(final[\"Brand\"].value_counts(),labels=final[\"Brand\"].unique(),autopct=\"%0.02f%%\")\n",
    "plt.show()"
   ]
  },
  {
   "cell_type": "markdown",
   "id": "c69cb5cf",
   "metadata": {},
   "source": [
    "### Bivariate Analysis"
   ]
  },
  {
   "cell_type": "code",
   "execution_count": 70,
   "id": "7f24f6ca",
   "metadata": {},
   "outputs": [
    {
     "data": {
      "text/plain": [
       "<matplotlib.collections.PathCollection at 0x252243e29d0>"
      ]
     },
     "execution_count": 70,
     "metadata": {},
     "output_type": "execute_result"
    },
    {
     "data": {
      "image/png": "[encoded data removed]",
      "text/plain": [
       "<Figure size 432x288 with 1 Axes>"
      ]
     },
     "metadata": {
      "needs_background": "light"
     },
     "output_type": "display_data"
    }
   ],
   "source": [
    "plt.scatter(final['Brand'],final['Price'])"
   ]
  },
  {
   "cell_type": "code",
   "execution_count": 71,
   "id": "55540908",
   "metadata": {},
   "outputs": [
    {
     "name": "stderr",
     "output_type": "stream",
     "text": [
      "C:\\ProgramData\\Anaconda3\\lib\\site-packages\\seaborn\\_decorators.py:36: FutureWarning: Pass the following variables as keyword args: x, y. From version 0.12, the only valid positional argument will be `data`, and passing other arguments without an explicit keyword will result in an error or misinterpretation.\n",
      "  warnings.warn(\n"
     ]
    },
    {
     "data": {
      "text/plain": [
       "<AxesSubplot:xlabel='RAM', ylabel='Price'>"
      ]
     },
     "execution_count": 71,
     "metadata": {},
     "output_type": "execute_result"
    },
    {
     "data": {
      "image/png": "[encoded data removed]",
      "text/plain": [
       "<Figure size 432x288 with 1 Axes>"
      ]
     },
     "metadata": {
      "needs_background": "light"
     },
     "output_type": "display_data"
    }
   ],
   "source": [
    "sns.boxplot(final['RAM'],final['Price'])"
   ]
  },
  {
   "cell_type": "code",
   "execution_count": 74,
   "id": "d8252cca",
   "metadata": {},
   "outputs": [
    {
     "name": "stderr",
     "output_type": "stream",
     "text": [
      "C:\\ProgramData\\Anaconda3\\lib\\site-packages\\seaborn\\_decorators.py:36: FutureWarning: Pass the following variables as keyword args: x, y. From version 0.12, the only valid positional argument will be `data`, and passing other arguments without an explicit keyword will result in an error or misinterpretation.\n",
      "  warnings.warn(\n"
     ]
    },
    {
     "data": {
      "text/plain": [
       "<AxesSubplot:xlabel='RAM', ylabel='Price'>"
      ]
     },
     "execution_count": 74,
     "metadata": {},
     "output_type": "execute_result"
    },
    {
     "data": {
      "image/png": "[encoded data removed]",
      "text/plain": [
       "<Figure size 432x288 with 1 Axes>"
      ]
     },
     "metadata": {
      "needs_background": "light"
     },
     "output_type": "display_data"
    }
   ],
   "source": [
    "sns.scatterplot(final['RAM'],final['Price'],hue=final['Brand'])"
   ]
  },
  {
   "cell_type": "code",
   "execution_count": 76,
   "id": "02c55383",
   "metadata": {},
   "outputs": [
    {
     "data": {
      "text/html": [
       "<div>\n",
       "<style scoped>\n",
       "    .dataframe tbody tr th:only-of-type {\n",
       "        vertical-align: middle;\n",
       "    }\n",
       "\n",
       "    .dataframe tbody tr th {\n",
       "        vertical-align: top;\n",
       "    }\n",
       "\n",
       "    .dataframe thead th {\n",
       "        text-align: right;\n",
       "    }\n",
       "</style>\n",
       "<table border=\"1\" class=\"dataframe\">\n",
       "  <thead>\n",
       "    <tr style=\"text-align: right;\">\n",
       "      <th></th>\n",
       "      <th>Price</th>\n",
       "      <th>Model</th>\n",
       "      <th>Color</th>\n",
       "      <th>RAM</th>\n",
       "      <th>ROM</th>\n",
       "      <th>SS</th>\n",
       "      <th>Battery</th>\n",
       "    </tr>\n",
       "    <tr>\n",
       "      <th>Brand</th>\n",
       "      <th></th>\n",
       "      <th></th>\n",
       "      <th></th>\n",
       "      <th></th>\n",
       "      <th></th>\n",
       "      <th></th>\n",
       "      <th></th>\n",
       "    </tr>\n",
       "  </thead>\n",
       "  <tbody>\n",
       "    <tr>\n",
       "      <th>Infinix</th>\n",
       "      <td>17</td>\n",
       "      <td>17</td>\n",
       "      <td>17</td>\n",
       "      <td>17</td>\n",
       "      <td>17</td>\n",
       "      <td>17</td>\n",
       "      <td>17</td>\n",
       "    </tr>\n",
       "    <tr>\n",
       "      <th>MOTOROLA</th>\n",
       "      <td>17</td>\n",
       "      <td>17</td>\n",
       "      <td>17</td>\n",
       "      <td>17</td>\n",
       "      <td>17</td>\n",
       "      <td>17</td>\n",
       "      <td>17</td>\n",
       "    </tr>\n",
       "    <tr>\n",
       "      <th>POCO</th>\n",
       "      <td>23</td>\n",
       "      <td>23</td>\n",
       "      <td>23</td>\n",
       "      <td>23</td>\n",
       "      <td>23</td>\n",
       "      <td>23</td>\n",
       "      <td>23</td>\n",
       "    </tr>\n",
       "    <tr>\n",
       "      <th>REDMI</th>\n",
       "      <td>13</td>\n",
       "      <td>13</td>\n",
       "      <td>13</td>\n",
       "      <td>13</td>\n",
       "      <td>13</td>\n",
       "      <td>13</td>\n",
       "      <td>13</td>\n",
       "    </tr>\n",
       "    <tr>\n",
       "      <th>SAMSUNG</th>\n",
       "      <td>4</td>\n",
       "      <td>4</td>\n",
       "      <td>4</td>\n",
       "      <td>4</td>\n",
       "      <td>4</td>\n",
       "      <td>4</td>\n",
       "      <td>4</td>\n",
       "    </tr>\n",
       "    <tr>\n",
       "      <th>realme</th>\n",
       "      <td>33</td>\n",
       "      <td>33</td>\n",
       "      <td>33</td>\n",
       "      <td>33</td>\n",
       "      <td>33</td>\n",
       "      <td>33</td>\n",
       "      <td>33</td>\n",
       "    </tr>\n",
       "    <tr>\n",
       "      <th>vivo</th>\n",
       "      <td>13</td>\n",
       "      <td>13</td>\n",
       "      <td>13</td>\n",
       "      <td>13</td>\n",
       "      <td>13</td>\n",
       "      <td>13</td>\n",
       "      <td>13</td>\n",
       "    </tr>\n",
       "  </tbody>\n",
       "</table>\n",
       "</div>"
      ],
      "text/plain": [
       "          Price  Model  Color  RAM  ROM  SS  Battery\n",
       "Brand                                               \n",
       "Infinix      17     17     17   17   17  17       17\n",
       "MOTOROLA     17     17     17   17   17  17       17\n",
       "POCO         23     23     23   23   23  23       23\n",
       "REDMI        13     13     13   13   13  13       13\n",
       "SAMSUNG       4      4      4    4    4   4        4\n",
       "realme       33     33     33   33   33  33       33\n",
       "vivo         13     13     13   13   13  13       13"
      ]
     },
     "execution_count": 76,
     "metadata": {},
     "output_type": "execute_result"
    }
   ],
   "source": [
    "final.groupby('Brand').count()"
   ]
  },
  {
   "cell_type": "markdown",
   "id": "8d40dafe",
   "metadata": {},
   "source": [
    "#### finding best mobiles under 10000"
   ]
  },
  {
   "cell_type": "code",
   "execution_count": 77,
   "id": "1fb32e48",
   "metadata": {},
   "outputs": [
    {
     "data": {
      "text/html": [
       "<div>\n",
       "<style scoped>\n",
       "    .dataframe tbody tr th:only-of-type {\n",
       "        vertical-align: middle;\n",
       "    }\n",
       "\n",
       "    .dataframe tbody tr th {\n",
       "        vertical-align: top;\n",
       "    }\n",
       "\n",
       "    .dataframe thead th {\n",
       "        text-align: right;\n",
       "    }\n",
       "</style>\n",
       "<table border=\"1\" class=\"dataframe\">\n",
       "  <thead>\n",
       "    <tr style=\"text-align: right;\">\n",
       "      <th></th>\n",
       "      <th>Price</th>\n",
       "      <th>Brand</th>\n",
       "      <th>Model</th>\n",
       "      <th>Color</th>\n",
       "      <th>RAM</th>\n",
       "      <th>ROM</th>\n",
       "      <th>SS</th>\n",
       "      <th>Battery</th>\n",
       "    </tr>\n",
       "  </thead>\n",
       "  <tbody>\n",
       "    <tr>\n",
       "      <th>1</th>\n",
       "      <td>8499</td>\n",
       "      <td>SAMSUNG</td>\n",
       "      <td>SAMSUNG Galaxy F04</td>\n",
       "      <td>Opal Green</td>\n",
       "      <td>4</td>\n",
       "      <td>64</td>\n",
       "      <td>6.50</td>\n",
       "      <td>5000</td>\n",
       "    </tr>\n",
       "    <tr>\n",
       "      <th>2</th>\n",
       "      <td>6999</td>\n",
       "      <td>POCO</td>\n",
       "      <td>POCO C51</td>\n",
       "      <td>Royal Blue</td>\n",
       "      <td>4</td>\n",
       "      <td>64</td>\n",
       "      <td>6.52</td>\n",
       "      <td>5000</td>\n",
       "    </tr>\n",
       "    <tr>\n",
       "      <th>3</th>\n",
       "      <td>6999</td>\n",
       "      <td>POCO</td>\n",
       "      <td>POCO C51</td>\n",
       "      <td>Power Black</td>\n",
       "      <td>4</td>\n",
       "      <td>64</td>\n",
       "      <td>6.52</td>\n",
       "      <td>5000</td>\n",
       "    </tr>\n",
       "    <tr>\n",
       "      <th>4</th>\n",
       "      <td>9499</td>\n",
       "      <td>Infinix</td>\n",
       "      <td>Infinix HOT 30i</td>\n",
       "      <td>Glacier Blue</td>\n",
       "      <td>8</td>\n",
       "      <td>128</td>\n",
       "      <td>6.60</td>\n",
       "      <td>5000</td>\n",
       "    </tr>\n",
       "    <tr>\n",
       "      <th>5</th>\n",
       "      <td>9499</td>\n",
       "      <td>Infinix</td>\n",
       "      <td>Infinix HOT 30i</td>\n",
       "      <td>Diamond White</td>\n",
       "      <td>8</td>\n",
       "      <td>128</td>\n",
       "      <td>6.60</td>\n",
       "      <td>5000</td>\n",
       "    </tr>\n",
       "    <tr>\n",
       "      <th>...</th>\n",
       "      <td>...</td>\n",
       "      <td>...</td>\n",
       "      <td>...</td>\n",
       "      <td>...</td>\n",
       "      <td>...</td>\n",
       "      <td>...</td>\n",
       "      <td>...</td>\n",
       "      <td>...</td>\n",
       "    </tr>\n",
       "    <tr>\n",
       "      <th>109</th>\n",
       "      <td>9999</td>\n",
       "      <td>MOTOROLA</td>\n",
       "      <td>MOTOROLA g13</td>\n",
       "      <td>Lavender Blue</td>\n",
       "      <td>4</td>\n",
       "      <td>128</td>\n",
       "      <td>6.50</td>\n",
       "      <td>5000</td>\n",
       "    </tr>\n",
       "    <tr>\n",
       "      <th>111</th>\n",
       "      <td>5649</td>\n",
       "      <td>POCO</td>\n",
       "      <td>POCO C50</td>\n",
       "      <td>Country Green</td>\n",
       "      <td>2</td>\n",
       "      <td>32</td>\n",
       "      <td>6.52</td>\n",
       "      <td>5000</td>\n",
       "    </tr>\n",
       "    <tr>\n",
       "      <th>113</th>\n",
       "      <td>9499</td>\n",
       "      <td>REDMI</td>\n",
       "      <td>REDMI 10</td>\n",
       "      <td>Caribbean Green</td>\n",
       "      <td>4</td>\n",
       "      <td>64</td>\n",
       "      <td>6.70</td>\n",
       "      <td>6000</td>\n",
       "    </tr>\n",
       "    <tr>\n",
       "      <th>114</th>\n",
       "      <td>9499</td>\n",
       "      <td>REDMI</td>\n",
       "      <td>REDMI 10</td>\n",
       "      <td>Midnight Black</td>\n",
       "      <td>4</td>\n",
       "      <td>64</td>\n",
       "      <td>6.70</td>\n",
       "      <td>6000</td>\n",
       "    </tr>\n",
       "    <tr>\n",
       "      <th>119</th>\n",
       "      <td>7749</td>\n",
       "      <td>POCO</td>\n",
       "      <td>POCO C55</td>\n",
       "      <td>Forest Green</td>\n",
       "      <td>4</td>\n",
       "      <td>64</td>\n",
       "      <td>6.71</td>\n",
       "      <td>5000</td>\n",
       "    </tr>\n",
       "  </tbody>\n",
       "</table>\n",
       "<p>61 rows × 8 columns</p>\n",
       "</div>"
      ],
      "text/plain": [
       "     Price     Brand               Model            Color  RAM  ROM    SS  \\\n",
       "1     8499   SAMSUNG  SAMSUNG Galaxy F04       Opal Green    4   64  6.50   \n",
       "2     6999      POCO            POCO C51       Royal Blue    4   64  6.52   \n",
       "3     6999      POCO            POCO C51      Power Black    4   64  6.52   \n",
       "4     9499   Infinix     Infinix HOT 30i     Glacier Blue    8  128  6.60   \n",
       "5     9499   Infinix     Infinix HOT 30i    Diamond White    8  128  6.60   \n",
       "..     ...       ...                 ...              ...  ...  ...   ...   \n",
       "109   9999  MOTOROLA        MOTOROLA g13    Lavender Blue    4  128  6.50   \n",
       "111   5649      POCO            POCO C50    Country Green    2   32  6.52   \n",
       "113   9499     REDMI            REDMI 10  Caribbean Green    4   64  6.70   \n",
       "114   9499     REDMI            REDMI 10   Midnight Black    4   64  6.70   \n",
       "119   7749      POCO            POCO C55     Forest Green    4   64  6.71   \n",
       "\n",
       "     Battery  \n",
       "1       5000  \n",
       "2       5000  \n",
       "3       5000  \n",
       "4       5000  \n",
       "5       5000  \n",
       "..       ...  \n",
       "109     5000  \n",
       "111     5000  \n",
       "113     6000  \n",
       "114     6000  \n",
       "119     5000  \n",
       "\n",
       "[61 rows x 8 columns]"
      ]
     },
     "execution_count": 77,
     "metadata": {},
     "output_type": "execute_result"
    }
   ],
   "source": [
    "final[final['Price']<=10000]"
   ]
  },
  {
   "cell_type": "code",
   "execution_count": 78,
   "id": "8a183f8d",
   "metadata": {},
   "outputs": [
    {
     "data": {
      "text/html": [
       "<div>\n",
       "<style scoped>\n",
       "    .dataframe tbody tr th:only-of-type {\n",
       "        vertical-align: middle;\n",
       "    }\n",
       "\n",
       "    .dataframe tbody tr th {\n",
       "        vertical-align: top;\n",
       "    }\n",
       "\n",
       "    .dataframe thead th {\n",
       "        text-align: right;\n",
       "    }\n",
       "</style>\n",
       "<table border=\"1\" class=\"dataframe\">\n",
       "  <thead>\n",
       "    <tr style=\"text-align: right;\">\n",
       "      <th></th>\n",
       "      <th>Price</th>\n",
       "      <th>Brand</th>\n",
       "      <th>Model</th>\n",
       "      <th>Color</th>\n",
       "      <th>RAM</th>\n",
       "      <th>ROM</th>\n",
       "      <th>SS</th>\n",
       "      <th>Battery</th>\n",
       "    </tr>\n",
       "  </thead>\n",
       "  <tbody>\n",
       "    <tr>\n",
       "      <th>19</th>\n",
       "      <td>15999</td>\n",
       "      <td>vivo</td>\n",
       "      <td>vivo T2x 5G</td>\n",
       "      <td>Aurora Gold</td>\n",
       "      <td>8</td>\n",
       "      <td>128</td>\n",
       "      <td>6.58</td>\n",
       "      <td>5000</td>\n",
       "    </tr>\n",
       "    <tr>\n",
       "      <th>23</th>\n",
       "      <td>15999</td>\n",
       "      <td>vivo</td>\n",
       "      <td>vivo T2x 5G</td>\n",
       "      <td>Marine Blue</td>\n",
       "      <td>8</td>\n",
       "      <td>128</td>\n",
       "      <td>6.58</td>\n",
       "      <td>5000</td>\n",
       "    </tr>\n",
       "  </tbody>\n",
       "</table>\n",
       "</div>"
      ],
      "text/plain": [
       "    Price Brand        Model        Color  RAM  ROM    SS  Battery\n",
       "19  15999  vivo  vivo T2x 5G  Aurora Gold    8  128  6.58     5000\n",
       "23  15999  vivo  vivo T2x 5G  Marine Blue    8  128  6.58     5000"
      ]
     },
     "execution_count": 78,
     "metadata": {},
     "output_type": "execute_result"
    }
   ],
   "source": [
    "final[final['Price']>15000]"
   ]
  },
  {
   "cell_type": "code",
   "execution_count": 85,
   "id": "a55efbfc",
   "metadata": {},
   "outputs": [],
   "source": [
    "url = \"https://www.flipkart.com/search?q=mobiles&as=on&as-show=on&otracker=AS_Query_HistoryAutoSuggest_1_7_na_na_na&otracker1=AS_Query_HistoryAutoSuggest_1_7_na_na_na&as-pos=1&as-type=HISTORY&suggestionId=mobiles&requestId=56328270-8958-43c9-98b7-6b7112fc01e7&as-searchtext=mobiles&sort=popularity&page=10\"\n",
    "page = requests.get(url)\n",
    "soup = BeautifulSoup(page.text)\n",
    "# price\n",
    "p = soup.find_all(\"div\",class_=\"_30jeq3 _1_WHN1\")\n",
    "prices = []\n",
    "for i in p:\n",
    "    prices.append(i.text)\n",
    "    \n",
    "data = soup.find_all(\"div\",class_=\"_4rR01T\")\n",
    "\n",
    "brands = []\n",
    "for i in data:\n",
    "    brands.append(i.text.split()[0])\n",
    "    \n",
    "models = []\n",
    "for i in data:\n",
    "    models.append(i.text.split(\"(\")[0].strip())\n",
    "    \n",
    "colors = []\n",
    "for i in data:\n",
    "    if \"(\" in i:\n",
    "        colors.append(i.text.split(\"(\")[1].split(\",\")[0])\n",
    "    else:\n",
    "        colors.append(np.nan)\n",
    "    \n",
    "features = soup.find_all(\"li\",class_=\"rgWa7D\")\n",
    "\n",
    "RAM = []\n",
    "for i in features:\n",
    "    a = i.text\n",
    "    b = re.findall(r\"(\\d+)\\sGB\\sRAM\",a)\n",
    "    if len(b)>0:\n",
    "        RAM.append(b[0])\n",
    "        \n",
    "ROM = []\n",
    "for i in features:\n",
    "    a = i.text\n",
    "    b = re.findall(r\"(\\d+)\\s\\w+\\sROM\",a)\n",
    "    if len(b)>0:\n",
    "        ROM.append(b[0])\n",
    "        \n",
    "ss = []\n",
    "for i in features:\n",
    "    a = i.text\n",
    "    b = re.findall(r\"(\\d+\\.\\d+)\\sinch\",a)\n",
    "    if len(b)>0:\n",
    "        ss.append(b[0])\n",
    "        \n",
    "battery = []\n",
    "for i in features:\n",
    "    a = i.text\n",
    "    b = re.findall(r\"(\\d+)\\smAh\",a)\n",
    "    if len(b)>0:\n",
    "        battery.append(b[0])"
   ]
  },
  {
   "cell_type": "code",
   "execution_count": 83,
   "id": "7ba98324",
   "metadata": {},
   "outputs": [
    {
     "data": {
      "text/plain": [
       "'Waterfall Blue'"
      ]
     },
     "execution_count": 83,
     "metadata": {},
     "output_type": "execute_result"
    }
   ],
   "source": [
    "a = \"SAMSUNG Galaxy F13 (Waterfall Blue, 64 GB)\"\n",
    "a.split(\"(\")[1].split(\",\")[0]"
   ]
  },
  {
   "cell_type": "code",
   "execution_count": 84,
   "id": "f7ac4717",
   "metadata": {},
   "outputs": [
    {
     "ename": "IndexError",
     "evalue": "list index out of range",
     "output_type": "error",
     "traceback": [
      "\u001b[1;31m---------------------------------------------------------------------------\u001b[0m",
      "\u001b[1;31mIndexError\u001b[0m                                Traceback (most recent call last)",
      "\u001b[1;32m~\\AppData\\Local\\Temp/ipykernel_7152/86875014.py\u001b[0m in \u001b[0;36m<module>\u001b[1;34m\u001b[0m\n\u001b[0;32m      1\u001b[0m \u001b[0ma\u001b[0m \u001b[1;33m=\u001b[0m \u001b[1;34m\"SAMSUNG Galaxy F13\"\u001b[0m\u001b[1;33m\u001b[0m\u001b[1;33m\u001b[0m\u001b[0m\n\u001b[1;32m----> 2\u001b[1;33m \u001b[0ma\u001b[0m\u001b[1;33m.\u001b[0m\u001b[0msplit\u001b[0m\u001b[1;33m(\u001b[0m\u001b[1;34m\"(\"\u001b[0m\u001b[1;33m)\u001b[0m\u001b[1;33m[\u001b[0m\u001b[1;36m1\u001b[0m\u001b[1;33m]\u001b[0m\u001b[1;33m.\u001b[0m\u001b[0msplit\u001b[0m\u001b[1;33m(\u001b[0m\u001b[1;34m\",\"\u001b[0m\u001b[1;33m)\u001b[0m\u001b[1;33m[\u001b[0m\u001b[1;36m0\u001b[0m\u001b[1;33m]\u001b[0m\u001b[1;33m\u001b[0m\u001b[1;33m\u001b[0m\u001b[0m\n\u001b[0m",
      "\u001b[1;31mIndexError\u001b[0m: list index out of range"
     ]
    }
   ],
   "source": [
    "a = \"SAMSUNG Galaxy F13\"\n",
    "a.split(\"(\")[1].split(\",\")[0]"
   ]
  },
  {
   "cell_type": "code",
   "execution_count": 86,
   "id": "fe9230d2",
   "metadata": {},
   "outputs": [
    {
     "ename": "ValueError",
     "evalue": "All arrays must be of the same length",
     "output_type": "error",
     "traceback": [
      "\u001b[1;31m---------------------------------------------------------------------------\u001b[0m",
      "\u001b[1;31mValueError\u001b[0m                                Traceback (most recent call last)",
      "\u001b[1;32m~\\AppData\\Local\\Temp/ipykernel_7152/2839046601.py\u001b[0m in \u001b[0;36m<module>\u001b[1;34m\u001b[0m\n\u001b[0;32m      7\u001b[0m     \u001b[1;34m\"SS\"\u001b[0m\u001b[1;33m:\u001b[0m\u001b[0mss\u001b[0m\u001b[1;33m,\u001b[0m\u001b[1;33m\u001b[0m\u001b[1;33m\u001b[0m\u001b[0m\n\u001b[0;32m      8\u001b[0m     \"Battery\":battery}\n\u001b[1;32m----> 9\u001b[1;33m \u001b[0mdf4\u001b[0m \u001b[1;33m=\u001b[0m \u001b[0mpd\u001b[0m\u001b[1;33m.\u001b[0m\u001b[0mDataFrame\u001b[0m\u001b[1;33m(\u001b[0m\u001b[0md\u001b[0m\u001b[1;33m)\u001b[0m\u001b[1;33m\u001b[0m\u001b[1;33m\u001b[0m\u001b[0m\n\u001b[0m",
      "\u001b[1;32mC:\\ProgramData\\Anaconda3\\lib\\site-packages\\pandas\\core\\frame.py\u001b[0m in \u001b[0;36m__init__\u001b[1;34m(self, data, index, columns, dtype, copy)\u001b[0m\n\u001b[0;32m    612\u001b[0m         \u001b[1;32melif\u001b[0m \u001b[0misinstance\u001b[0m\u001b[1;33m(\u001b[0m\u001b[0mdata\u001b[0m\u001b[1;33m,\u001b[0m \u001b[0mdict\u001b[0m\u001b[1;33m)\u001b[0m\u001b[1;33m:\u001b[0m\u001b[1;33m\u001b[0m\u001b[1;33m\u001b[0m\u001b[0m\n\u001b[0;32m    613\u001b[0m             \u001b[1;31m# GH#38939 de facto copy defaults to False only in non-dict cases\u001b[0m\u001b[1;33m\u001b[0m\u001b[1;33m\u001b[0m\u001b[0m\n\u001b[1;32m--> 614\u001b[1;33m             \u001b[0mmgr\u001b[0m \u001b[1;33m=\u001b[0m \u001b[0mdict_to_mgr\u001b[0m\u001b[1;33m(\u001b[0m\u001b[0mdata\u001b[0m\u001b[1;33m,\u001b[0m \u001b[0mindex\u001b[0m\u001b[1;33m,\u001b[0m \u001b[0mcolumns\u001b[0m\u001b[1;33m,\u001b[0m \u001b[0mdtype\u001b[0m\u001b[1;33m=\u001b[0m\u001b[0mdtype\u001b[0m\u001b[1;33m,\u001b[0m \u001b[0mcopy\u001b[0m\u001b[1;33m=\u001b[0m\u001b[0mcopy\u001b[0m\u001b[1;33m,\u001b[0m \u001b[0mtyp\u001b[0m\u001b[1;33m=\u001b[0m\u001b[0mmanager\u001b[0m\u001b[1;33m)\u001b[0m\u001b[1;33m\u001b[0m\u001b[1;33m\u001b[0m\u001b[0m\n\u001b[0m\u001b[0;32m    615\u001b[0m         \u001b[1;32melif\u001b[0m \u001b[0misinstance\u001b[0m\u001b[1;33m(\u001b[0m\u001b[0mdata\u001b[0m\u001b[1;33m,\u001b[0m \u001b[0mma\u001b[0m\u001b[1;33m.\u001b[0m\u001b[0mMaskedArray\u001b[0m\u001b[1;33m)\u001b[0m\u001b[1;33m:\u001b[0m\u001b[1;33m\u001b[0m\u001b[1;33m\u001b[0m\u001b[0m\n\u001b[0;32m    616\u001b[0m             \u001b[1;32mimport\u001b[0m \u001b[0mnumpy\u001b[0m\u001b[1;33m.\u001b[0m\u001b[0mma\u001b[0m\u001b[1;33m.\u001b[0m\u001b[0mmrecords\u001b[0m \u001b[1;32mas\u001b[0m \u001b[0mmrecords\u001b[0m\u001b[1;33m\u001b[0m\u001b[1;33m\u001b[0m\u001b[0m\n",
      "\u001b[1;32mC:\\ProgramData\\Anaconda3\\lib\\site-packages\\pandas\\core\\internals\\construction.py\u001b[0m in \u001b[0;36mdict_to_mgr\u001b[1;34m(data, index, columns, dtype, typ, copy)\u001b[0m\n\u001b[0;32m    462\u001b[0m         \u001b[1;31m# TODO: can we get rid of the dt64tz special case above?\u001b[0m\u001b[1;33m\u001b[0m\u001b[1;33m\u001b[0m\u001b[0m\n\u001b[0;32m    463\u001b[0m \u001b[1;33m\u001b[0m\u001b[0m\n\u001b[1;32m--> 464\u001b[1;33m     return arrays_to_mgr(\n\u001b[0m\u001b[0;32m    465\u001b[0m         \u001b[0marrays\u001b[0m\u001b[1;33m,\u001b[0m \u001b[0mdata_names\u001b[0m\u001b[1;33m,\u001b[0m \u001b[0mindex\u001b[0m\u001b[1;33m,\u001b[0m \u001b[0mcolumns\u001b[0m\u001b[1;33m,\u001b[0m \u001b[0mdtype\u001b[0m\u001b[1;33m=\u001b[0m\u001b[0mdtype\u001b[0m\u001b[1;33m,\u001b[0m \u001b[0mtyp\u001b[0m\u001b[1;33m=\u001b[0m\u001b[0mtyp\u001b[0m\u001b[1;33m,\u001b[0m \u001b[0mconsolidate\u001b[0m\u001b[1;33m=\u001b[0m\u001b[0mcopy\u001b[0m\u001b[1;33m\u001b[0m\u001b[1;33m\u001b[0m\u001b[0m\n\u001b[0;32m    466\u001b[0m     )\n",
      "\u001b[1;32mC:\\ProgramData\\Anaconda3\\lib\\site-packages\\pandas\\core\\internals\\construction.py\u001b[0m in \u001b[0;36marrays_to_mgr\u001b[1;34m(arrays, arr_names, index, columns, dtype, verify_integrity, typ, consolidate)\u001b[0m\n\u001b[0;32m    117\u001b[0m         \u001b[1;31m# figure out the index, if necessary\u001b[0m\u001b[1;33m\u001b[0m\u001b[1;33m\u001b[0m\u001b[0m\n\u001b[0;32m    118\u001b[0m         \u001b[1;32mif\u001b[0m \u001b[0mindex\u001b[0m \u001b[1;32mis\u001b[0m \u001b[1;32mNone\u001b[0m\u001b[1;33m:\u001b[0m\u001b[1;33m\u001b[0m\u001b[1;33m\u001b[0m\u001b[0m\n\u001b[1;32m--> 119\u001b[1;33m             \u001b[0mindex\u001b[0m \u001b[1;33m=\u001b[0m \u001b[0m_extract_index\u001b[0m\u001b[1;33m(\u001b[0m\u001b[0marrays\u001b[0m\u001b[1;33m)\u001b[0m\u001b[1;33m\u001b[0m\u001b[1;33m\u001b[0m\u001b[0m\n\u001b[0m\u001b[0;32m    120\u001b[0m         \u001b[1;32melse\u001b[0m\u001b[1;33m:\u001b[0m\u001b[1;33m\u001b[0m\u001b[1;33m\u001b[0m\u001b[0m\n\u001b[0;32m    121\u001b[0m             \u001b[0mindex\u001b[0m \u001b[1;33m=\u001b[0m \u001b[0mensure_index\u001b[0m\u001b[1;33m(\u001b[0m\u001b[0mindex\u001b[0m\u001b[1;33m)\u001b[0m\u001b[1;33m\u001b[0m\u001b[1;33m\u001b[0m\u001b[0m\n",
      "\u001b[1;32mC:\\ProgramData\\Anaconda3\\lib\\site-packages\\pandas\\core\\internals\\construction.py\u001b[0m in \u001b[0;36m_extract_index\u001b[1;34m(data)\u001b[0m\n\u001b[0;32m    633\u001b[0m             \u001b[0mlengths\u001b[0m \u001b[1;33m=\u001b[0m \u001b[0mlist\u001b[0m\u001b[1;33m(\u001b[0m\u001b[0mset\u001b[0m\u001b[1;33m(\u001b[0m\u001b[0mraw_lengths\u001b[0m\u001b[1;33m)\u001b[0m\u001b[1;33m)\u001b[0m\u001b[1;33m\u001b[0m\u001b[1;33m\u001b[0m\u001b[0m\n\u001b[0;32m    634\u001b[0m             \u001b[1;32mif\u001b[0m \u001b[0mlen\u001b[0m\u001b[1;33m(\u001b[0m\u001b[0mlengths\u001b[0m\u001b[1;33m)\u001b[0m \u001b[1;33m>\u001b[0m \u001b[1;36m1\u001b[0m\u001b[1;33m:\u001b[0m\u001b[1;33m\u001b[0m\u001b[1;33m\u001b[0m\u001b[0m\n\u001b[1;32m--> 635\u001b[1;33m                 \u001b[1;32mraise\u001b[0m \u001b[0mValueError\u001b[0m\u001b[1;33m(\u001b[0m\u001b[1;34m\"All arrays must be of the same length\"\u001b[0m\u001b[1;33m)\u001b[0m\u001b[1;33m\u001b[0m\u001b[1;33m\u001b[0m\u001b[0m\n\u001b[0m\u001b[0;32m    636\u001b[0m \u001b[1;33m\u001b[0m\u001b[0m\n\u001b[0;32m    637\u001b[0m             \u001b[1;32mif\u001b[0m \u001b[0mhave_dicts\u001b[0m\u001b[1;33m:\u001b[0m\u001b[1;33m\u001b[0m\u001b[1;33m\u001b[0m\u001b[0m\n",
      "\u001b[1;31mValueError\u001b[0m: All arrays must be of the same length"
     ]
    }
   ],
   "source": [
    "d = {\"Price\":prices,\n",
    "    \"Brand\":brands,\n",
    "    \"Model\":models,\n",
    "    \"Color\":colors,\n",
    "    \"RAM\":RAM,\n",
    "    \"ROM\":ROM,\n",
    "    \"SS\":ss,\n",
    "    \"Battery\":battery}\n",
    "df4 = pd.DataFrame(d)"
   ]
  },
  {
   "cell_type": "code",
   "execution_count": 97,
   "id": "f175f056",
   "metadata": {},
   "outputs": [
    {
     "data": {
      "text/plain": [
       "24"
      ]
     },
     "execution_count": 97,
     "metadata": {},
     "output_type": "execute_result"
    }
   ],
   "source": [
    "len(battery)"
   ]
  },
  {
   "cell_type": "code",
   "execution_count": 93,
   "id": "bd359bfc",
   "metadata": {},
   "outputs": [],
   "source": [
    "RAM.insert(0,np.nan)"
   ]
  },
  {
   "cell_type": "code",
   "execution_count": null,
   "id": "59f0e3a0",
   "metadata": {},
   "outputs": [],
   "source": []
  }
 ],
 "metadata": {
  "kernelspec": {
   "display_name": "Python 3 (ipykernel)",
   "language": "python",
   "name": "python3"
  },
  "language_info": {
   "codemirror_mode": {
    "name": "ipython",
    "version": 3
   },
   "file_extension": ".py",
   "mimetype": "text/x-python",
   "name": "python",
   "nbconvert_exporter": "python",
   "pygments_lexer": "ipython3",
   "version": "3.9.7"
  }
 },
 "nbformat": 4,
 "nbformat_minor": 5
}
